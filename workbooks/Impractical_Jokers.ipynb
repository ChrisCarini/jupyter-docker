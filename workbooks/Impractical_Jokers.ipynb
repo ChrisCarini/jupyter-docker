{
 "cells": [
  {
   "cell_type": "markdown",
   "id": "081a7ce0-7582-4b1b-a4e8-62eca25382ec",
   "metadata": {},
   "source": [
    "# Impractical Jokers\n",
    "\n",
    "- [Impractical Jokers - wikipedia](https://en.wikipedia.org/wiki/Impractical_Jokers)\n",
    "- [List of Impractical Jokers episodes - wikipedia](https://en.wikipedia.org/wiki/List_of_Impractical_Jokers_episodes) _(source of data)_\n",
    "\n",
    "## The Question\n",
    "\n",
    "### Which of the four - Murr, Sal, Q, or Joe - most frequently are the 'loser' on Impractical Jokers TV show?"
   ]
  },
  {
   "cell_type": "code",
   "execution_count": 1,
   "id": "3536de2a-53ce-4a52-af13-974662d5b70c",
   "metadata": {
    "execution": {
     "iopub.execute_input": "2021-12-31T10:25:28.800170Z",
     "iopub.status.busy": "2021-12-31T10:25:28.799905Z",
     "iopub.status.idle": "2021-12-31T10:25:29.452637Z",
     "shell.execute_reply": "2021-12-31T10:25:29.451644Z",
     "shell.execute_reply.started": "2021-12-31T10:25:28.800102Z"
    },
    "tags": []
   },
   "outputs": [],
   "source": [
    "import pandas as pd\n",
    "import numpy as np\n",
    "import seaborn as sns\n",
    "import matplotlib.pyplot as plt"
   ]
  },
  {
   "cell_type": "markdown",
   "id": "33c4d39d-9a7c-44cf-ad96-a9410145b9bc",
   "metadata": {},
   "source": [
    "Data pulled from Wikipedia on 2021-12-30 _(see link above)_ and placed into a gSheet for publishing and usage within this workbook."
   ]
  },
  {
   "cell_type": "code",
   "execution_count": 2,
   "id": "f6ade84e-aff9-41f9-980a-bc7c0f6a9493",
   "metadata": {
    "execution": {
     "iopub.execute_input": "2021-12-31T10:25:29.453752Z",
     "iopub.status.busy": "2021-12-31T10:25:29.453595Z",
     "iopub.status.idle": "2021-12-31T10:25:30.307563Z",
     "shell.execute_reply": "2021-12-31T10:25:30.306588Z",
     "shell.execute_reply.started": "2021-12-31T10:25:29.453734Z"
    },
    "tags": []
   },
   "outputs": [
    {
     "name": "stdout",
     "output_type": "stream",
     "text": [
      "CPU times: user 23.4 ms, sys: 3.27 ms, total: 26.6 ms\n",
      "Wall time: 849 ms\n"
     ]
    }
   ],
   "source": [
    "%%time\n",
    "df_orig = pd.read_csv('https://docs.google.com/spreadsheets/d/e/2PACX-1vQSHzS8URinSNDW7oSyjAS_GY4YFxTRq3UytcxjTcN3TvZdql_uvaGDRlkYoLw9eFN-zXbiCEv14qFm/pub?output=csv')"
   ]
  },
  {
   "cell_type": "code",
   "execution_count": 3,
   "id": "2f392878-cec1-40f5-88d2-4843145fc030",
   "metadata": {
    "execution": {
     "iopub.execute_input": "2021-12-31T10:25:30.308709Z",
     "iopub.status.busy": "2021-12-31T10:25:30.308495Z",
     "iopub.status.idle": "2021-12-31T10:25:30.325950Z",
     "shell.execute_reply": "2021-12-31T10:25:30.324295Z",
     "shell.execute_reply.started": "2021-12-31T10:25:30.308685Z"
    },
    "tags": []
   },
   "outputs": [
    {
     "name": "stdout",
     "output_type": "stream",
     "text": [
      "<class 'pandas.core.frame.DataFrame'>\n",
      "RangeIndex: 224 entries, 0 to 223\n",
      "Data columns (total 7 columns):\n",
      " #   Column                   Non-Null Count  Dtype \n",
      "---  ------                   --------------  ----- \n",
      " 0   Season                   224 non-null    int64 \n",
      " 1   No. overall              224 non-null    int64 \n",
      " 2   No. in season            224 non-null    int64 \n",
      " 3   Title                    224 non-null    object\n",
      " 4   Original air date        224 non-null    object\n",
      " 5   Losing Joker(s)          224 non-null    object\n",
      " 6   U.S. viewers (millions)  224 non-null    object\n",
      "dtypes: int64(3), object(4)\n",
      "memory usage: 12.4+ KB\n"
     ]
    }
   ],
   "source": [
    "df_orig.info()"
   ]
  },
  {
   "cell_type": "code",
   "execution_count": 4,
   "id": "d7c5649d-6104-4369-a6ca-08812e89e1fc",
   "metadata": {
    "execution": {
     "iopub.execute_input": "2021-12-31T10:25:30.327553Z",
     "iopub.status.busy": "2021-12-31T10:25:30.327279Z",
     "iopub.status.idle": "2021-12-31T10:25:30.344416Z",
     "shell.execute_reply": "2021-12-31T10:25:30.343364Z",
     "shell.execute_reply.started": "2021-12-31T10:25:30.327525Z"
    },
    "tags": []
   },
   "outputs": [
    {
     "data": {
      "text/html": [
       "<div>\n",
       "<style scoped>\n",
       "    .dataframe tbody tr th:only-of-type {\n",
       "        vertical-align: middle;\n",
       "    }\n",
       "\n",
       "    .dataframe tbody tr th {\n",
       "        vertical-align: top;\n",
       "    }\n",
       "\n",
       "    .dataframe thead th {\n",
       "        text-align: right;\n",
       "    }\n",
       "</style>\n",
       "<table border=\"1\" class=\"dataframe\">\n",
       "  <thead>\n",
       "    <tr style=\"text-align: right;\">\n",
       "      <th></th>\n",
       "      <th>Season</th>\n",
       "      <th>No. overall</th>\n",
       "      <th>No. in season</th>\n",
       "      <th>Title</th>\n",
       "      <th>Original air date</th>\n",
       "      <th>Losing Joker(s)</th>\n",
       "      <th>U.S. viewers (millions)</th>\n",
       "    </tr>\n",
       "  </thead>\n",
       "  <tbody>\n",
       "    <tr>\n",
       "      <th>0</th>\n",
       "      <td>1</td>\n",
       "      <td>1</td>\n",
       "      <td>1</td>\n",
       "      <td>\"Pay It Forward\"</td>\n",
       "      <td>December 15, 2011</td>\n",
       "      <td>Sal</td>\n",
       "      <td>1.52[1]</td>\n",
       "    </tr>\n",
       "    <tr>\n",
       "      <th>1</th>\n",
       "      <td>1</td>\n",
       "      <td>2</td>\n",
       "      <td>2</td>\n",
       "      <td>\"Butterfly Crime Scene\"</td>\n",
       "      <td>December 15, 2011</td>\n",
       "      <td>Sal</td>\n",
       "      <td>1.33[1]</td>\n",
       "    </tr>\n",
       "    <tr>\n",
       "      <th>2</th>\n",
       "      <td>1</td>\n",
       "      <td>3</td>\n",
       "      <td>3</td>\n",
       "      <td>\"Unmotivational Speaker\"</td>\n",
       "      <td>December 22, 2011</td>\n",
       "      <td>Sal</td>\n",
       "      <td>1.50[2]</td>\n",
       "    </tr>\n",
       "    <tr>\n",
       "      <th>3</th>\n",
       "      <td>1</td>\n",
       "      <td>4</td>\n",
       "      <td>4</td>\n",
       "      <td>\"Boardwalk of Shame\"</td>\n",
       "      <td>December 29, 2011</td>\n",
       "      <td>Joe</td>\n",
       "      <td>1.31[3]</td>\n",
       "    </tr>\n",
       "    <tr>\n",
       "      <th>4</th>\n",
       "      <td>1</td>\n",
       "      <td>5</td>\n",
       "      <td>5</td>\n",
       "      <td>\"Drawing a Blank\"</td>\n",
       "      <td>January 5, 2012</td>\n",
       "      <td>Sal</td>\n",
       "      <td>1.48[4]</td>\n",
       "    </tr>\n",
       "  </tbody>\n",
       "</table>\n",
       "</div>"
      ],
      "text/plain": [
       "   Season  No. overall  No. in season                     Title  \\\n",
       "0       1            1              1          \"Pay It Forward\"   \n",
       "1       1            2              2   \"Butterfly Crime Scene\"   \n",
       "2       1            3              3  \"Unmotivational Speaker\"   \n",
       "3       1            4              4      \"Boardwalk of Shame\"   \n",
       "4       1            5              5         \"Drawing a Blank\"   \n",
       "\n",
       "   Original air date Losing Joker(s) U.S. viewers (millions)  \n",
       "0  December 15, 2011             Sal                 1.52[1]  \n",
       "1  December 15, 2011             Sal                 1.33[1]  \n",
       "2  December 22, 2011             Sal                 1.50[2]  \n",
       "3  December 29, 2011             Joe                 1.31[3]  \n",
       "4    January 5, 2012             Sal                 1.48[4]  "
      ]
     },
     "execution_count": 4,
     "metadata": {},
     "output_type": "execute_result"
    }
   ],
   "source": [
    "df_orig.head()"
   ]
  },
  {
   "cell_type": "code",
   "execution_count": 5,
   "id": "af4c6508-e555-4742-ab36-6a3b7c9ad4f9",
   "metadata": {
    "execution": {
     "iopub.execute_input": "2021-12-31T10:25:30.345554Z",
     "iopub.status.busy": "2021-12-31T10:25:30.345337Z",
     "iopub.status.idle": "2021-12-31T10:25:30.893944Z",
     "shell.execute_reply": "2021-12-31T10:25:30.893109Z",
     "shell.execute_reply.started": "2021-12-31T10:25:30.345529Z"
    },
    "tags": []
   },
   "outputs": [
    {
     "data": {
      "text/html": [
       "<div>\n",
       "<style scoped>\n",
       "    .dataframe tbody tr th:only-of-type {\n",
       "        vertical-align: middle;\n",
       "    }\n",
       "\n",
       "    .dataframe tbody tr th {\n",
       "        vertical-align: top;\n",
       "    }\n",
       "\n",
       "    .dataframe thead th {\n",
       "        text-align: right;\n",
       "    }\n",
       "</style>\n",
       "<table border=\"1\" class=\"dataframe\">\n",
       "  <thead>\n",
       "    <tr style=\"text-align: right;\">\n",
       "      <th></th>\n",
       "      <th>Season</th>\n",
       "      <th>No. overall</th>\n",
       "      <th>No. in season</th>\n",
       "      <th>Title</th>\n",
       "      <th>Original air date</th>\n",
       "      <th>Losing Joker(s)</th>\n",
       "      <th>U.S. viewers (millions)</th>\n",
       "      <th>count</th>\n",
       "      <th>is_murr_loser</th>\n",
       "      <th>is_sal_loser</th>\n",
       "      <th>is_q_loser</th>\n",
       "      <th>is_joe_loser</th>\n",
       "      <th>loser</th>\n",
       "    </tr>\n",
       "  </thead>\n",
       "  <tbody>\n",
       "    <tr>\n",
       "      <th>0</th>\n",
       "      <td>1</td>\n",
       "      <td>1</td>\n",
       "      <td>1</td>\n",
       "      <td>\"Pay It Forward\"</td>\n",
       "      <td>2011-12-15</td>\n",
       "      <td>Sal</td>\n",
       "      <td>1.52</td>\n",
       "      <td>1</td>\n",
       "      <td>0</td>\n",
       "      <td>1</td>\n",
       "      <td>0</td>\n",
       "      <td>0</td>\n",
       "      <td>is_sal_loser</td>\n",
       "    </tr>\n",
       "    <tr>\n",
       "      <th>1</th>\n",
       "      <td>1</td>\n",
       "      <td>2</td>\n",
       "      <td>2</td>\n",
       "      <td>\"Butterfly Crime Scene\"</td>\n",
       "      <td>2011-12-15</td>\n",
       "      <td>Sal</td>\n",
       "      <td>1.33</td>\n",
       "      <td>1</td>\n",
       "      <td>0</td>\n",
       "      <td>1</td>\n",
       "      <td>0</td>\n",
       "      <td>0</td>\n",
       "      <td>is_sal_loser</td>\n",
       "    </tr>\n",
       "    <tr>\n",
       "      <th>2</th>\n",
       "      <td>1</td>\n",
       "      <td>3</td>\n",
       "      <td>3</td>\n",
       "      <td>\"Unmotivational Speaker\"</td>\n",
       "      <td>2011-12-22</td>\n",
       "      <td>Sal</td>\n",
       "      <td>1.50</td>\n",
       "      <td>1</td>\n",
       "      <td>0</td>\n",
       "      <td>1</td>\n",
       "      <td>0</td>\n",
       "      <td>0</td>\n",
       "      <td>is_sal_loser</td>\n",
       "    </tr>\n",
       "    <tr>\n",
       "      <th>3</th>\n",
       "      <td>1</td>\n",
       "      <td>4</td>\n",
       "      <td>4</td>\n",
       "      <td>\"Boardwalk of Shame\"</td>\n",
       "      <td>2011-12-29</td>\n",
       "      <td>Joe</td>\n",
       "      <td>1.31</td>\n",
       "      <td>1</td>\n",
       "      <td>0</td>\n",
       "      <td>0</td>\n",
       "      <td>0</td>\n",
       "      <td>1</td>\n",
       "      <td>is_joe_loser</td>\n",
       "    </tr>\n",
       "    <tr>\n",
       "      <th>4</th>\n",
       "      <td>1</td>\n",
       "      <td>5</td>\n",
       "      <td>5</td>\n",
       "      <td>\"Drawing a Blank\"</td>\n",
       "      <td>2012-01-05</td>\n",
       "      <td>Sal</td>\n",
       "      <td>1.48</td>\n",
       "      <td>1</td>\n",
       "      <td>0</td>\n",
       "      <td>1</td>\n",
       "      <td>0</td>\n",
       "      <td>0</td>\n",
       "      <td>is_sal_loser</td>\n",
       "    </tr>\n",
       "  </tbody>\n",
       "</table>\n",
       "</div>"
      ],
      "text/plain": [
       "   Season  No. overall  No. in season                     Title  \\\n",
       "0       1            1              1          \"Pay It Forward\"   \n",
       "1       1            2              2   \"Butterfly Crime Scene\"   \n",
       "2       1            3              3  \"Unmotivational Speaker\"   \n",
       "3       1            4              4      \"Boardwalk of Shame\"   \n",
       "4       1            5              5         \"Drawing a Blank\"   \n",
       "\n",
       "  Original air date Losing Joker(s) U.S. viewers (millions)  count  \\\n",
       "0        2011-12-15             Sal                    1.52      1   \n",
       "1        2011-12-15             Sal                    1.33      1   \n",
       "2        2011-12-22             Sal                    1.50      1   \n",
       "3        2011-12-29             Joe                    1.31      1   \n",
       "4        2012-01-05             Sal                    1.48      1   \n",
       "\n",
       "   is_murr_loser  is_sal_loser  is_q_loser  is_joe_loser         loser  \n",
       "0              0             1           0             0  is_sal_loser  \n",
       "1              0             1           0             0  is_sal_loser  \n",
       "2              0             1           0             0  is_sal_loser  \n",
       "3              0             0           0             1  is_joe_loser  \n",
       "4              0             1           0             0  is_sal_loser  "
      ]
     },
     "execution_count": 5,
     "metadata": {},
     "output_type": "execute_result"
    }
   ],
   "source": [
    "df = df_orig.copy()\n",
    "\n",
    "# add count row\n",
    "df['count'] = 1\n",
    "\n",
    "# Turn the air date into a date object\n",
    "df['Original air date'] = pd.to_datetime(df['Original air date'])\n",
    "\n",
    "# Parse out the viewers to exclude the reference (ie, remove the `[x]`)\n",
    "df['U.S. viewers (millions)'] = df['U.S. viewers (millions)'].str.split('[').str[0]\n",
    "\n",
    "# # Swap out 'clip show' for 'NA'\n",
    "# df['Losing Joker(s)'].replace(to_replace='clip show', value=np.nan, inplace=True)\n",
    "\n",
    "# One-hot encode the losing joker(s)\n",
    "def losing_jokers(df):\n",
    "    losers = df['Losing Joker(s)'].lower()\n",
    "    df['is_murr_loser'] = 1 if 'murr' in losers or 'all jokers' in losers else 0\n",
    "    df['is_sal_loser'] = 1 if 'sal' in losers or 'all jokers' in losers else 0\n",
    "    df['is_q_loser'] = 1 if 'q' in losers or 'all jokers' in losers else 0\n",
    "    df['is_joe_loser'] = 1 if 'joe' in losers or 'all jokers' in losers else 0\n",
    "    return df\n",
    "\n",
    "df = df.apply(losing_jokers, axis=1)\n",
    "\n",
    "# Drop any rows that have more than one loser\n",
    "df.drop(df[\n",
    "    df['is_murr_loser'] + df['is_sal_loser'] + df['is_q_loser'] + df['is_joe_loser'] > 1\n",
    "].index, inplace=True)\n",
    "\n",
    "# Identify the single 'loser'\n",
    "df['loser'] = df[[\n",
    "    'is_murr_loser',\n",
    "    'is_sal_loser',\n",
    "    'is_q_loser',\n",
    "    'is_joe_loser',\n",
    "]].idxmax(axis=1)\n",
    "\n",
    "\n",
    "df.head()"
   ]
  },
  {
   "cell_type": "code",
   "execution_count": 6,
   "id": "b4a01f19-b607-402b-b165-57befbf8b1b5",
   "metadata": {
    "execution": {
     "iopub.execute_input": "2021-12-31T10:25:30.896085Z",
     "iopub.status.busy": "2021-12-31T10:25:30.895851Z",
     "iopub.status.idle": "2021-12-31T10:25:31.018670Z",
     "shell.execute_reply": "2021-12-31T10:25:31.017952Z",
     "shell.execute_reply.started": "2021-12-31T10:25:30.896065Z"
    },
    "tags": []
   },
   "outputs": [
    {
     "data": {
      "image/png": "[encoded data removed]",
      "text/plain": [
       "<Figure size 720x360 with 1 Axes>"
      ]
     },
     "metadata": {
      "needs_background": "light"
     },
     "output_type": "display_data"
    }
   ],
   "source": [
    "(df['loser'].value_counts(normalize=True).round(4)*100).plot(\n",
    "    kind='bar',\n",
    "    title=\"Overall 'loser' percentage - All Seasons\",\n",
    "    ylabel='percentage',\n",
    "    rot=0,\n",
    "    figsize=(10,5),\n",
    ");"
   ]
  },
  {
   "cell_type": "code",
   "execution_count": 7,
   "id": "62aacf6c-aa6e-4049-9ba2-60fd4573d1fb",
   "metadata": {
    "execution": {
     "iopub.execute_input": "2021-12-31T10:25:31.019832Z",
     "iopub.status.busy": "2021-12-31T10:25:31.019657Z",
     "iopub.status.idle": "2021-12-31T10:25:31.037575Z",
     "shell.execute_reply": "2021-12-31T10:25:31.036289Z",
     "shell.execute_reply.started": "2021-12-31T10:25:31.019784Z"
    },
    "tags": []
   },
   "outputs": [
    {
     "data": {
      "text/html": [
       "<div>\n",
       "<style scoped>\n",
       "    .dataframe tbody tr th:only-of-type {\n",
       "        vertical-align: middle;\n",
       "    }\n",
       "\n",
       "    .dataframe tbody tr th {\n",
       "        vertical-align: top;\n",
       "    }\n",
       "\n",
       "    .dataframe thead th {\n",
       "        text-align: right;\n",
       "    }\n",
       "</style>\n",
       "<table border=\"1\" class=\"dataframe\">\n",
       "  <thead>\n",
       "    <tr style=\"text-align: right;\">\n",
       "      <th></th>\n",
       "      <th></th>\n",
       "      <th></th>\n",
       "      <th></th>\n",
       "      <th>Season</th>\n",
       "    </tr>\n",
       "    <tr>\n",
       "      <th>is_murr_loser</th>\n",
       "      <th>is_sal_loser</th>\n",
       "      <th>is_q_loser</th>\n",
       "      <th>is_joe_loser</th>\n",
       "      <th></th>\n",
       "    </tr>\n",
       "  </thead>\n",
       "  <tbody>\n",
       "    <tr>\n",
       "      <th rowspan=\"4\" valign=\"top\">0</th>\n",
       "      <th rowspan=\"3\" valign=\"top\">0</th>\n",
       "      <th rowspan=\"2\" valign=\"top\">0</th>\n",
       "      <th>0</th>\n",
       "      <td>8</td>\n",
       "    </tr>\n",
       "    <tr>\n",
       "      <th>1</th>\n",
       "      <td>39</td>\n",
       "    </tr>\n",
       "    <tr>\n",
       "      <th>1</th>\n",
       "      <th>0</th>\n",
       "      <td>44</td>\n",
       "    </tr>\n",
       "    <tr>\n",
       "      <th>1</th>\n",
       "      <th>0</th>\n",
       "      <th>0</th>\n",
       "      <td>57</td>\n",
       "    </tr>\n",
       "    <tr>\n",
       "      <th>1</th>\n",
       "      <th>0</th>\n",
       "      <th>0</th>\n",
       "      <th>0</th>\n",
       "      <td>56</td>\n",
       "    </tr>\n",
       "  </tbody>\n",
       "</table>\n",
       "</div>"
      ],
      "text/plain": [
       "                                                    Season\n",
       "is_murr_loser is_sal_loser is_q_loser is_joe_loser        \n",
       "0             0            0          0                  8\n",
       "                                      1                 39\n",
       "                           1          0                 44\n",
       "              1            0          0                 57\n",
       "1             0            0          0                 56"
      ]
     },
     "execution_count": 7,
     "metadata": {},
     "output_type": "execute_result"
    }
   ],
   "source": [
    "df.groupby(by=[\n",
    "    'is_murr_loser',\n",
    "    'is_sal_loser',\n",
    "    'is_q_loser',\n",
    "    'is_joe_loser',\n",
    "]).count()[['Season']]"
   ]
  },
  {
   "cell_type": "code",
   "execution_count": 8,
   "id": "f51dd4e4-abe2-493e-ac04-0d2372a3e558",
   "metadata": {
    "execution": {
     "iopub.execute_input": "2021-12-31T10:25:31.038708Z",
     "iopub.status.busy": "2021-12-31T10:25:31.038508Z",
     "iopub.status.idle": "2021-12-31T10:25:31.619205Z",
     "shell.execute_reply": "2021-12-31T10:25:31.618155Z",
     "shell.execute_reply.started": "2021-12-31T10:25:31.038685Z"
    },
    "tags": []
   },
   "outputs": [
    {
     "data": {
      "image/png": "[encoded data removed]",
      "text/plain": [
       "<Figure size 432x288 with 1 Axes>"
      ]
     },
     "metadata": {
      "needs_background": "light"
     },
     "output_type": "display_data"
    },
    {
     "data": {
      "image/png": "[encoded data removed]",
      "text/plain": [
       "<Figure size 432x288 with 1 Axes>"
      ]
     },
     "metadata": {
      "needs_background": "light"
     },
     "output_type": "display_data"
    },
    {
     "data": {
      "image/png": "[encoded data removed]",
      "text/plain": [
       "<Figure size 432x288 with 1 Axes>"
      ]
     },
     "metadata": {
      "needs_background": "light"
     },
     "output_type": "display_data"
    },
    {
     "data": {
      "image/png": "[encoded data removed]",
      "text/plain": [
       "<Figure size 432x288 with 1 Axes>"
      ]
     },
     "metadata": {
      "needs_background": "light"
     },
     "output_type": "display_data"
    }
   ],
   "source": [
    "for idx, hue in enumerate([\n",
    "    'is_murr_loser',\n",
    "    'is_sal_loser',\n",
    "    'is_q_loser',\n",
    "    'is_joe_loser',\n",
    "]):\n",
    "    plt.figure(idx)\n",
    "    sns.countplot(\n",
    "        data=df,\n",
    "        x='Season',\n",
    "        hue=hue\n",
    "    )"
   ]
  },
  {
   "cell_type": "code",
   "execution_count": 9,
   "id": "7b99e3eb-28d1-4ad0-a685-153a780fac5c",
   "metadata": {
    "execution": {
     "iopub.execute_input": "2021-12-31T10:25:31.620236Z",
     "iopub.status.busy": "2021-12-31T10:25:31.619902Z",
     "iopub.status.idle": "2021-12-31T10:25:32.218052Z",
     "shell.execute_reply": "2021-12-31T10:25:32.217060Z",
     "shell.execute_reply.started": "2021-12-31T10:25:31.620198Z"
    },
    "jupyter": {
     "source_hidden": true
    },
    "tags": []
   },
   "outputs": [
    {
     "data": {
      "text/plain": [
       "<Figure size 432x288 with 0 Axes>"
      ]
     },
     "metadata": {},
     "output_type": "display_data"
    },
    {
     "data": {
      "image/png": "[encoded data removed]",
      "text/plain": [
       "<Figure size 432x288 with 1 Axes>"
      ]
     },
     "metadata": {
      "needs_background": "light"
     },
     "output_type": "display_data"
    },
    {
     "data": {
      "image/png": "[encoded data removed]",
      "text/plain": [
       "<Figure size 432x288 with 1 Axes>"
      ]
     },
     "metadata": {
      "needs_background": "light"
     },
     "output_type": "display_data"
    },
    {
     "data": {
      "image/png": "[encoded data removed]",
      "text/plain": [
       "<Figure size 432x288 with 1 Axes>"
      ]
     },
     "metadata": {
      "needs_background": "light"
     },
     "output_type": "display_data"
    },
    {
     "data": {
      "image/png": "[encoded data removed]",
      "text/plain": [
       "<Figure size 432x288 with 1 Axes>"
      ]
     },
     "metadata": {
      "needs_background": "light"
     },
     "output_type": "display_data"
    }
   ],
   "source": [
    "for idx, col in enumerate([\n",
    "    'is_murr_loser',\n",
    "    'is_sal_loser',\n",
    "    'is_q_loser',\n",
    "    'is_joe_loser',\n",
    "]):\n",
    "    plt.figure(idx)\n",
    "    \n",
    "    dfl = df[['Season','count', col]].groupby(['Season', col]).count().groupby(level=0).apply(lambda x: 100 * x / float(x.sum())).unstack()\n",
    "    dfl.columns = dfl.columns.droplevel()\n",
    "    ax = dfl[[1,0]].plot(kind='bar', stacked=True)\n",
    "    ax.set_ylim(0, 40)\n",
    "    ax.set_ylabel('percentage')"
   ]
  },
  {
   "cell_type": "code",
   "execution_count": 10,
   "id": "73cd5f35-61a2-4cc9-ac24-aee78cdedd10",
   "metadata": {
    "execution": {
     "iopub.execute_input": "2021-12-31T10:25:32.219165Z",
     "iopub.status.busy": "2021-12-31T10:25:32.219023Z",
     "iopub.status.idle": "2021-12-31T10:25:32.435467Z",
     "shell.execute_reply": "2021-12-31T10:25:32.434169Z",
     "shell.execute_reply.started": "2021-12-31T10:25:32.219149Z"
    },
    "tags": []
   },
   "outputs": [
    {
     "data": {
      "text/plain": [
       "<AxesSubplot:xlabel='Season', ylabel='count'>"
      ]
     },
     "execution_count": 10,
     "metadata": {},
     "output_type": "execute_result"
    },
    {
     "data": {
      "image/png": "[encoded data removed]",
      "text/plain": [
       "<Figure size 720x504 with 1 Axes>"
      ]
     },
     "metadata": {
      "needs_background": "light"
     },
     "output_type": "display_data"
    }
   ],
   "source": [
    "fig, ax = plt.subplots(figsize=(10,7))\n",
    "sns.countplot(\n",
    "    data=df,\n",
    "    x='Season',\n",
    "    hue='loser',\n",
    "    ax=ax,\n",
    ")"
   ]
  },
  {
   "cell_type": "code",
   "execution_count": 11,
   "id": "d9788826-e42e-4734-b11c-dbdfe8f3e610",
   "metadata": {
    "execution": {
     "iopub.execute_input": "2021-12-31T10:25:32.436547Z",
     "iopub.status.busy": "2021-12-31T10:25:32.436361Z",
     "iopub.status.idle": "2021-12-31T10:25:32.702589Z",
     "shell.execute_reply": "2021-12-31T10:25:32.701579Z",
     "shell.execute_reply.started": "2021-12-31T10:25:32.436528Z"
    },
    "tags": []
   },
   "outputs": [
    {
     "data": {
      "text/plain": [
       "<AxesSubplot:xlabel='loser', ylabel='count'>"
      ]
     },
     "execution_count": 11,
     "metadata": {},
     "output_type": "execute_result"
    },
    {
     "data": {
      "image/png": "[encoded data removed]",
      "text/plain": [
       "<Figure size 720x504 with 1 Axes>"
      ]
     },
     "metadata": {
      "needs_background": "light"
     },
     "output_type": "display_data"
    }
   ],
   "source": [
    "fig, ax = plt.subplots(figsize=(10,7))\n",
    "sns.countplot(\n",
    "    data=df,\n",
    "    x='loser',\n",
    "    hue='Season',\n",
    "    ax=ax,\n",
    ")"
   ]
  },
  {
   "cell_type": "code",
   "execution_count": 12,
   "id": "f5b02b6f-9608-4715-ade2-41b2fcc02510",
   "metadata": {
    "execution": {
     "iopub.execute_input": "2021-12-31T10:25:32.703499Z",
     "iopub.status.busy": "2021-12-31T10:25:32.703360Z",
     "iopub.status.idle": "2021-12-31T10:25:33.803115Z",
     "shell.execute_reply": "2021-12-31T10:25:33.802247Z",
     "shell.execute_reply.started": "2021-12-31T10:25:32.703483Z"
    },
    "tags": []
   },
   "outputs": [
    {
     "data": {
      "text/plain": [
       "<seaborn.axisgrid.FacetGrid at 0x7f6b9a8fce50>"
      ]
     },
     "execution_count": 12,
     "metadata": {},
     "output_type": "execute_result"
    },
    {
     "data": {
      "image/png": "[encoded data removed]",
      "text/plain": [
       "<Figure size 360x3240 with 9 Axes>"
      ]
     },
     "metadata": {
      "needs_background": "light"
     },
     "output_type": "display_data"
    }
   ],
   "source": [
    "sns.catplot(\n",
    "    data=df,\n",
    "    x='loser',\n",
    "    hue='loser',\n",
    "    row='Season',\n",
    "    kind='count',\n",
    ")"
   ]
  },
  {
   "cell_type": "code",
   "execution_count": 13,
   "id": "9c9cb654-af7d-4ff9-a6d1-c6d81d4a2b81",
   "metadata": {
    "execution": {
     "iopub.execute_input": "2021-12-31T10:25:33.804144Z",
     "iopub.status.busy": "2021-12-31T10:25:33.803967Z",
     "iopub.status.idle": "2021-12-31T10:25:33.832116Z",
     "shell.execute_reply": "2021-12-31T10:25:33.831510Z",
     "shell.execute_reply.started": "2021-12-31T10:25:33.804124Z"
    },
    "tags": []
   },
   "outputs": [
    {
     "data": {
      "text/html": [
       "<div>\n",
       "<style scoped>\n",
       "    .dataframe tbody tr th:only-of-type {\n",
       "        vertical-align: middle;\n",
       "    }\n",
       "\n",
       "    .dataframe tbody tr th {\n",
       "        vertical-align: top;\n",
       "    }\n",
       "\n",
       "    .dataframe thead th {\n",
       "        text-align: right;\n",
       "    }\n",
       "</style>\n",
       "<table border=\"1\" class=\"dataframe\">\n",
       "  <thead>\n",
       "    <tr style=\"text-align: right;\">\n",
       "      <th></th>\n",
       "      <th>index</th>\n",
       "      <th>Season</th>\n",
       "      <th>loser</th>\n",
       "      <th>count</th>\n",
       "    </tr>\n",
       "  </thead>\n",
       "  <tbody>\n",
       "    <tr>\n",
       "      <th>0</th>\n",
       "      <td>0</td>\n",
       "      <td>1</td>\n",
       "      <td>is_joe_loser</td>\n",
       "      <td>26.666667</td>\n",
       "    </tr>\n",
       "    <tr>\n",
       "      <th>1</th>\n",
       "      <td>1</td>\n",
       "      <td>1</td>\n",
       "      <td>is_murr_loser</td>\n",
       "      <td>26.666667</td>\n",
       "    </tr>\n",
       "    <tr>\n",
       "      <th>2</th>\n",
       "      <td>2</td>\n",
       "      <td>1</td>\n",
       "      <td>is_q_loser</td>\n",
       "      <td>20.000000</td>\n",
       "    </tr>\n",
       "    <tr>\n",
       "      <th>3</th>\n",
       "      <td>3</td>\n",
       "      <td>1</td>\n",
       "      <td>is_sal_loser</td>\n",
       "      <td>26.666667</td>\n",
       "    </tr>\n",
       "    <tr>\n",
       "      <th>4</th>\n",
       "      <td>4</td>\n",
       "      <td>2</td>\n",
       "      <td>is_joe_loser</td>\n",
       "      <td>12.500000</td>\n",
       "    </tr>\n",
       "  </tbody>\n",
       "</table>\n",
       "</div>"
      ],
      "text/plain": [
       "   index  Season          loser      count\n",
       "0      0       1   is_joe_loser  26.666667\n",
       "1      1       1  is_murr_loser  26.666667\n",
       "2      2       1     is_q_loser  20.000000\n",
       "3      3       1   is_sal_loser  26.666667\n",
       "4      4       2   is_joe_loser  12.500000"
      ]
     },
     "execution_count": 13,
     "metadata": {},
     "output_type": "execute_result"
    }
   ],
   "source": [
    "cnt = df[['Season','loser','count']].groupby(['Season','loser']).count()\n",
    "dfg = cnt.groupby(level=0).apply(lambda x: 100 * x / float(x.sum())).reset_index()\n",
    "dfg.reset_index().head()"
   ]
  },
  {
   "cell_type": "code",
   "execution_count": 14,
   "id": "79d06be8-3d7a-4c73-8887-5faf3a1c0f8f",
   "metadata": {
    "execution": {
     "iopub.execute_input": "2021-12-31T10:25:33.833129Z",
     "iopub.status.busy": "2021-12-31T10:25:33.832936Z",
     "iopub.status.idle": "2021-12-31T10:25:34.180802Z",
     "shell.execute_reply": "2021-12-31T10:25:34.179701Z",
     "shell.execute_reply.started": "2021-12-31T10:25:33.833089Z"
    },
    "tags": []
   },
   "outputs": [
    {
     "data": {
      "text/plain": [
       "<AxesSubplot:xlabel='Season', ylabel='count'>"
      ]
     },
     "execution_count": 14,
     "metadata": {},
     "output_type": "execute_result"
    },
    {
     "data": {
      "image/png": "[encoded data removed]",
      "text/plain": [
       "<Figure size 432x288 with 1 Axes>"
      ]
     },
     "metadata": {
      "needs_background": "light"
     },
     "output_type": "display_data"
    }
   ],
   "source": [
    "sns.barplot(x='Season', y='count', hue='loser', data=dfg)"
   ]
  },
  {
   "cell_type": "code",
   "execution_count": 15,
   "id": "502c21e6-10c5-4706-9a5d-106a899b8517",
   "metadata": {
    "execution": {
     "iopub.execute_input": "2021-12-31T10:25:34.182086Z",
     "iopub.status.busy": "2021-12-31T10:25:34.181844Z",
     "iopub.status.idle": "2021-12-31T10:25:34.216065Z",
     "shell.execute_reply": "2021-12-31T10:25:34.215312Z",
     "shell.execute_reply.started": "2021-12-31T10:25:34.182045Z"
    },
    "tags": []
   },
   "outputs": [
    {
     "data": {
      "text/html": [
       "<div>\n",
       "<style scoped>\n",
       "    .dataframe tbody tr th:only-of-type {\n",
       "        vertical-align: middle;\n",
       "    }\n",
       "\n",
       "    .dataframe tbody tr th {\n",
       "        vertical-align: top;\n",
       "    }\n",
       "\n",
       "    .dataframe thead th {\n",
       "        text-align: right;\n",
       "    }\n",
       "</style>\n",
       "<table border=\"1\" class=\"dataframe\">\n",
       "  <thead>\n",
       "    <tr style=\"text-align: right;\">\n",
       "      <th>loser</th>\n",
       "      <th>is_joe_loser</th>\n",
       "      <th>is_murr_loser</th>\n",
       "      <th>is_q_loser</th>\n",
       "      <th>is_sal_loser</th>\n",
       "    </tr>\n",
       "    <tr>\n",
       "      <th>Season</th>\n",
       "      <th></th>\n",
       "      <th></th>\n",
       "      <th></th>\n",
       "      <th></th>\n",
       "    </tr>\n",
       "  </thead>\n",
       "  <tbody>\n",
       "    <tr>\n",
       "      <th>1</th>\n",
       "      <td>26.666667</td>\n",
       "      <td>26.666667</td>\n",
       "      <td>20.000000</td>\n",
       "      <td>26.666667</td>\n",
       "    </tr>\n",
       "    <tr>\n",
       "      <th>2</th>\n",
       "      <td>12.500000</td>\n",
       "      <td>33.333333</td>\n",
       "      <td>25.000000</td>\n",
       "      <td>29.166667</td>\n",
       "    </tr>\n",
       "    <tr>\n",
       "      <th>3</th>\n",
       "      <td>21.428571</td>\n",
       "      <td>35.714286</td>\n",
       "      <td>17.857143</td>\n",
       "      <td>25.000000</td>\n",
       "    </tr>\n",
       "    <tr>\n",
       "      <th>4</th>\n",
       "      <td>20.833333</td>\n",
       "      <td>33.333333</td>\n",
       "      <td>16.666667</td>\n",
       "      <td>29.166667</td>\n",
       "    </tr>\n",
       "    <tr>\n",
       "      <th>5</th>\n",
       "      <td>21.739130</td>\n",
       "      <td>17.391304</td>\n",
       "      <td>30.434783</td>\n",
       "      <td>30.434783</td>\n",
       "    </tr>\n",
       "    <tr>\n",
       "      <th>6</th>\n",
       "      <td>13.043478</td>\n",
       "      <td>30.434783</td>\n",
       "      <td>21.739130</td>\n",
       "      <td>34.782609</td>\n",
       "    </tr>\n",
       "    <tr>\n",
       "      <th>7</th>\n",
       "      <td>16.666667</td>\n",
       "      <td>29.166667</td>\n",
       "      <td>25.000000</td>\n",
       "      <td>29.166667</td>\n",
       "    </tr>\n",
       "    <tr>\n",
       "      <th>8</th>\n",
       "      <td>20.000000</td>\n",
       "      <td>32.000000</td>\n",
       "      <td>24.000000</td>\n",
       "      <td>24.000000</td>\n",
       "    </tr>\n",
       "    <tr>\n",
       "      <th>9</th>\n",
       "      <td>22.222222</td>\n",
       "      <td>44.444444</td>\n",
       "      <td>11.111111</td>\n",
       "      <td>22.222222</td>\n",
       "    </tr>\n",
       "  </tbody>\n",
       "</table>\n",
       "</div>"
      ],
      "text/plain": [
       "loser   is_joe_loser  is_murr_loser  is_q_loser  is_sal_loser\n",
       "Season                                                       \n",
       "1          26.666667      26.666667   20.000000     26.666667\n",
       "2          12.500000      33.333333   25.000000     29.166667\n",
       "3          21.428571      35.714286   17.857143     25.000000\n",
       "4          20.833333      33.333333   16.666667     29.166667\n",
       "5          21.739130      17.391304   30.434783     30.434783\n",
       "6          13.043478      30.434783   21.739130     34.782609\n",
       "7          16.666667      29.166667   25.000000     29.166667\n",
       "8          20.000000      32.000000   24.000000     24.000000\n",
       "9          22.222222      44.444444   11.111111     22.222222"
      ]
     },
     "execution_count": 15,
     "metadata": {},
     "output_type": "execute_result"
    }
   ],
   "source": [
    "cnt = df[['Season','loser','count']].groupby(['Season','loser']).count()\n",
    "dfg = cnt.groupby(level=0).apply(lambda x: 100 * x / float(x.sum())).unstack().reset_index()\n",
    "dfg.columns = dfg.columns.droplevel()\n",
    "dfg.index = dfg[''].rename('Season')\n",
    "del dfg['']\n",
    "dfg.head(9)"
   ]
  },
  {
   "cell_type": "code",
   "execution_count": 16,
   "id": "305b5fd4-ef68-42ec-a1a7-e02ddc0f9cac",
   "metadata": {
    "execution": {
     "iopub.execute_input": "2021-12-31T10:25:34.216998Z",
     "iopub.status.busy": "2021-12-31T10:25:34.216827Z",
     "iopub.status.idle": "2021-12-31T10:25:34.418421Z",
     "shell.execute_reply": "2021-12-31T10:25:34.417760Z",
     "shell.execute_reply.started": "2021-12-31T10:25:34.216978Z"
    },
    "tags": []
   },
   "outputs": [
    {
     "data": {
      "text/plain": [
       "<AxesSubplot:xlabel='Season'>"
      ]
     },
     "execution_count": 16,
     "metadata": {},
     "output_type": "execute_result"
    },
    {
     "data": {
      "image/png": "[encoded data removed]",
      "text/plain": [
       "<Figure size 432x288 with 1 Axes>"
      ]
     },
     "metadata": {
      "needs_background": "light"
     },
     "output_type": "display_data"
    }
   ],
   "source": [
    "dfg.plot(kind='bar', stacked=True)"
   ]
  }
 ],
 "metadata": {
  "kernelspec": {
   "display_name": "Python 3 (ipykernel)",
   "language": "python",
   "name": "python3"
  },
  "language_info": {
   "codemirror_mode": {
    "name": "ipython",
    "version": 3
   },
   "file_extension": ".py",
   "mimetype": "text/x-python",
   "name": "python",
   "nbconvert_exporter": "python",
   "pygments_lexer": "ipython3",
   "version": "3.9.10"
  }
 },
 "nbformat": 4,
 "nbformat_minor": 5
}

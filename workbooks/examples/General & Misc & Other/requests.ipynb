{
 "cells": [
  {
   "cell_type": "markdown",
   "id": "fc4b4bc2-3b21-431a-8927-7e905c0701e8",
   "metadata": {},
   "source": [
    "# `requests` Example\n",
    "\n",
    "**Quick Start Docs:** https://docs.python-requests.org/en/master/user/quickstart/"
   ]
  },
  {
   "cell_type": "code",
   "execution_count": 1,
   "id": "e6609cfa-ea26-45a6-8da5-b821062028dc",
   "metadata": {},
   "outputs": [],
   "source": [
    "import requests\n",
    "import pprint"
   ]
  },
  {
   "cell_type": "markdown",
   "id": "9042f65c-5c83-45e7-96ee-31150407c02c",
   "metadata": {},
   "source": [
    "## `GET` request"
   ]
  },
  {
   "cell_type": "code",
   "execution_count": 2,
   "id": "b6451f63-1ada-48ed-8656-260a1e17999a",
   "metadata": {},
   "outputs": [],
   "source": [
    "r = requests.get('https://api.github.com')"
   ]
  },
  {
   "cell_type": "markdown",
   "id": "1c48f824-1db2-49e9-a762-b234f1d5fba1",
   "metadata": {},
   "source": [
    "## `POST` request"
   ]
  },
  {
   "cell_type": "code",
   "execution_count": 3,
   "id": "a2c2c4eb-fc66-4da0-ab7c-52c8cec58d56",
   "metadata": {},
   "outputs": [
    {
     "name": "stdout",
     "output_type": "stream",
     "text": [
      "Status code: 200\n",
      "Text:\n",
      "{\n",
      "  \"args\": {}, \n",
      "  \"data\": \"\", \n",
      "  \"files\": {}, \n",
      "  \"form\": {\n",
      "    \"key\": \"value\"\n",
      "  }, \n",
      "  \"headers\": {\n",
      "    \"Accept\": \"*/*\", \n",
      "    \"Accept-Encoding\": \"gzip, deflate\", \n",
      "    \"Content-Length\": \"9\", \n",
      "    \"Content-Type\": \"application/x-www-form-urlencoded\", \n",
      "    \"Host\": \"httpbin.org\", \n",
      "    \"User-Agent\": \"python-requests/2.25.1\", \n",
      "    \"X-Amzn-Trace-Id\": \"Root=1-60ea3b8f-5274ef0b039302b85b6f1f43\"\n",
      "  }, \n",
      "  \"json\": null, \n",
      "  \"origin\": \"23.243.3.18\", \n",
      "  \"url\": \"https://httpbin.org/post\"\n",
      "}\n",
      "\n"
     ]
    }
   ],
   "source": [
    "resp = requests.post('https://httpbin.org/post', data={'key':'value'})\n",
    "print(f'Status code: {resp.status_code}')\n",
    "print('Text:')\n",
    "print(resp.text)"
   ]
  },
  {
   "cell_type": "markdown",
   "id": "129f1b79-1a06-44c1-b734-0c43ca2a5fa6",
   "metadata": {},
   "source": [
    "## Response Variables\n",
    "\n",
    "Note: These are from `r`, which was the `GET` call above."
   ]
  },
  {
   "cell_type": "code",
   "execution_count": 4,
   "id": "18e356d2-41c0-473f-94d2-fc9b8f7ac70c",
   "metadata": {},
   "outputs": [
    {
     "name": "stdout",
     "output_type": "stream",
     "text": [
      "Status Code: 200\n",
      "Header -> Content-Type: application/json; charset=utf-8\n",
      "Response -> Text: {\"current_user_url\":\"https://api\n",
      "Response -> JSON -> Keys: ['current_user_url',\n",
      " 'current_user_authorizations_html_url',\n",
      " 'authorizations_url',\n",
      " 'code_search_url',\n",
      " 'commit_search_url',\n",
      " 'emails_url',\n",
      " 'emojis_url',\n",
      " 'events_url',\n",
      " 'feeds_url',\n",
      " 'followers_url',\n",
      " 'following_url',\n",
      " 'gists_url',\n",
      " 'hub_url',\n",
      " 'issue_search_url',\n",
      " 'issues_url',\n",
      " 'keys_url',\n",
      " 'label_search_url',\n",
      " 'notifications_url',\n",
      " 'organization_url',\n",
      " 'organization_repositories_url',\n",
      " 'organization_teams_url',\n",
      " 'public_gists_url',\n",
      " 'rate_limit_url',\n",
      " 'repository_url',\n",
      " 'repository_search_url',\n",
      " 'current_user_repositories_url',\n",
      " 'starred_url',\n",
      " 'starred_gists_url',\n",
      " 'user_url',\n",
      " 'user_organizations_url',\n",
      " 'user_repositories_url',\n",
      " 'user_search_url']\n"
     ]
    }
   ],
   "source": [
    "print(f'Status Code: {r.status_code}')\n",
    "print(f'Header -> Content-Type: {r.headers[\"Content-Type\"]}')\n",
    "print(f'Response -> Text: {r.text[:32]}')\n",
    "print(f'Response -> JSON -> Keys: {pprint.pformat(list(r.json().keys()))}')"
   ]
  },
  {
   "cell_type": "markdown",
   "id": "0b34b892-4a87-4826-a7e9-0d261af803a3",
   "metadata": {},
   "source": [
    "## Query String Params"
   ]
  },
  {
   "cell_type": "code",
   "execution_count": 5,
   "id": "4afee6a4-f795-40aa-afd1-0d2bb8df06fd",
   "metadata": {
    "tags": []
   },
   "outputs": [
    {
     "name": "stdout",
     "output_type": "stream",
     "text": [
      "Repository name: requests\n",
      "{'archive_url': 'https://api.github.com/repos/psf/requests/{archive_format}{/ref}',\n",
      " 'archived': False,\n",
      " 'assignees_url': 'https://api.github.com/repos/psf/requests/assignees{/user}',\n",
      " 'blobs_url': 'https://api.github.com/repos/psf/requests/git/blobs{/sha}',\n",
      " 'branches_url': 'https://api.github.com/repos/psf/requests/branches{/branch}',\n",
      " 'clone_url': 'https://github.com/psf/requests.git',\n",
      " 'collaborators_url': 'https://api.github.com/repos/psf/requests/collaborators{/collaborator}',\n",
      " 'comments_url': 'https://api.github.com/repos/psf/requests/comments{/number}',\n",
      " 'commits_url': 'https://api.github.com/repos/psf/requests/commits{/sha}',\n",
      " 'compare_url': 'https://api.github.com/repos/psf/requests/compare/{base}...{head}',\n",
      " 'contents_url': 'https://api.github.com/repos/psf/requests/contents/{+path}',\n",
      " 'contributors_url': 'https://api.github.com/repos/psf/requests/contributors',\n",
      " 'created_at': '2011-02-13T18:38:17Z',\n",
      " 'default_branch': 'master',\n",
      " 'deployments_url': 'https://api.github.com/repos/psf/requests/deployments',\n",
      " 'description': 'A simple, yet elegant HTTP library.',\n",
      " 'disabled': False,\n",
      " 'downloads_url': 'https://api.github.com/repos/psf/requests/downloads',\n",
      " 'events_url': 'https://api.github.com/repos/psf/requests/events',\n",
      " 'fork': False,\n",
      " 'forks': 8347,\n",
      " 'forks_count': 8347,\n",
      " 'forks_url': 'https://api.github.com/repos/psf/requests/forks',\n",
      " 'full_name': 'psf/requests',\n",
      " 'git_commits_url': 'https://api.github.com/repos/psf/requests/git/commits{/sha}',\n",
      " 'git_refs_url': 'https://api.github.com/repos/psf/requests/git/refs{/sha}',\n",
      " 'git_tags_url': 'https://api.github.com/repos/psf/requests/git/tags{/sha}',\n",
      " 'git_url': 'git://github.com/psf/requests.git',\n",
      " 'has_downloads': True,\n",
      " 'has_issues': True,\n",
      " 'has_pages': True,\n",
      " 'has_projects': False,\n",
      " 'has_wiki': True,\n",
      " 'homepage': 'https://requests.readthedocs.io',\n",
      " 'hooks_url': 'https://api.github.com/repos/psf/requests/hooks',\n",
      " 'html_url': 'https://github.com/psf/requests',\n",
      " 'id': 1362490,\n",
      " 'issue_comment_url': 'https://api.github.com/repos/psf/requests/issues/comments{/number}',\n",
      " 'issue_events_url': 'https://api.github.com/repos/psf/requests/issues/events{/number}',\n",
      " 'issues_url': 'https://api.github.com/repos/psf/requests/issues{/number}',\n",
      " 'keys_url': 'https://api.github.com/repos/psf/requests/keys{/key_id}',\n",
      " 'labels_url': 'https://api.github.com/repos/psf/requests/labels{/name}',\n",
      " 'language': 'Python',\n",
      " 'languages_url': 'https://api.github.com/repos/psf/requests/languages',\n",
      " 'license': {'key': 'apache-2.0',\n",
      "             'name': 'Apache License 2.0',\n",
      "             'node_id': 'MDc6TGljZW5zZTI=',\n",
      "             'spdx_id': 'Apache-2.0',\n",
      "             'url': 'https://api.github.com/licenses/apache-2.0'},\n",
      " 'merges_url': 'https://api.github.com/repos/psf/requests/merges',\n",
      " 'milestones_url': 'https://api.github.com/repos/psf/requests/milestones{/number}',\n",
      " 'mirror_url': None,\n",
      " 'name': 'requests',\n",
      " 'node_id': 'MDEwOlJlcG9zaXRvcnkxMzYyNDkw',\n",
      " 'notifications_url': 'https://api.github.com/repos/psf/requests/notifications{?since,all,participating}',\n",
      " 'open_issues': 329,\n",
      " 'open_issues_count': 329,\n",
      " 'owner': {'avatar_url': 'https://avatars.githubusercontent.com/u/50630501?v=4',\n",
      "           'events_url': 'https://api.github.com/users/psf/events{/privacy}',\n",
      "           'followers_url': 'https://api.github.com/users/psf/followers',\n",
      "           'following_url': 'https://api.github.com/users/psf/following{/other_user}',\n",
      "           'gists_url': 'https://api.github.com/users/psf/gists{/gist_id}',\n",
      "           'gravatar_id': '',\n",
      "           'html_url': 'https://github.com/psf',\n",
      "           'id': 50630501,\n",
      "           'login': 'psf',\n",
      "           'node_id': 'MDEyOk9yZ2FuaXphdGlvbjUwNjMwNTAx',\n",
      "           'organizations_url': 'https://api.github.com/users/psf/orgs',\n",
      "           'received_events_url': 'https://api.github.com/users/psf/received_events',\n",
      "           'repos_url': 'https://api.github.com/users/psf/repos',\n",
      "           'site_admin': False,\n",
      "           'starred_url': 'https://api.github.com/users/psf/starred{/owner}{/repo}',\n",
      "           'subscriptions_url': 'https://api.github.com/users/psf/subscriptions',\n",
      "           'type': 'Organization',\n",
      "           'url': 'https://api.github.com/users/psf'},\n",
      " 'private': False,\n",
      " 'pulls_url': 'https://api.github.com/repos/psf/requests/pulls{/number}',\n",
      " 'pushed_at': '2021-07-09T19:45:56Z',\n",
      " 'releases_url': 'https://api.github.com/repos/psf/requests/releases{/id}',\n",
      " 'score': 1.0,\n",
      " 'size': 12601,\n",
      " 'ssh_url': 'git@github.com:psf/requests.git',\n",
      " 'stargazers_count': 45608,\n",
      " 'stargazers_url': 'https://api.github.com/repos/psf/requests/stargazers',\n",
      " 'statuses_url': 'https://api.github.com/repos/psf/requests/statuses/{sha}',\n",
      " 'subscribers_url': 'https://api.github.com/repos/psf/requests/subscribers',\n",
      " 'subscription_url': 'https://api.github.com/repos/psf/requests/subscription',\n",
      " 'svn_url': 'https://github.com/psf/requests',\n",
      " 'tags_url': 'https://api.github.com/repos/psf/requests/tags',\n",
      " 'teams_url': 'https://api.github.com/repos/psf/requests/teams',\n",
      " 'trees_url': 'https://api.github.com/repos/psf/requests/git/trees{/sha}',\n",
      " 'updated_at': '2021-07-10T22:49:55Z',\n",
      " 'url': 'https://api.github.com/repos/psf/requests',\n",
      " 'watchers': 45608,\n",
      " 'watchers_count': 45608}\n"
     ]
    }
   ],
   "source": [
    "# Search GitHub's repositories for `requests` python library\n",
    "response = requests.get(\n",
    "    'https://api.github.com/search/repositories',\n",
    "    params={'q': 'requests language:python'},\n",
    ")\n",
    "\n",
    "json_response = response.json()\n",
    "repository = json_response['items'][0]\n",
    "print(f'Repository name: {repository[\"name\"]}')\n",
    "pprint.pprint(repository)"
   ]
  }
 ],
 "metadata": {
  "kernelspec": {
   "display_name": "Python 3",
   "language": "python",
   "name": "python3"
  },
  "language_info": {
   "codemirror_mode": {
    "name": "ipython",
    "version": 3
   },
   "file_extension": ".py",
   "mimetype": "text/x-python",
   "name": "python",
   "nbconvert_exporter": "python",
   "pygments_lexer": "ipython3",
   "version": "3.8.8"
  }
 },
 "nbformat": 4,
 "nbformat_minor": 5
}

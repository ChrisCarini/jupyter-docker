{
 "cells": [
  {
   "cell_type": "markdown",
   "id": "c48e5c88-d375-4832-b02c-c7fd94e39f97",
   "metadata": {},
   "source": [
    "# BROKEN\n",
    "\n",
    "Lux does not seem to be working. Specifically, when a `pandas` `DataFrame` is printed (ie, run `df` in a cell, and you see a table), the `Toggle Pandas/Lux` button is shown, but clicking on the botton shows:\n",
    "\n",
    "> Error displaying widget: model not found\n",
    "\n",
    "**OR**\n",
    "\n",
    "> Loading widget...\n",
    "\n",
    "In Chrome's console, the below errors are seen:\n",
    "\n",
    "> Uncaught (in promise) Error: Module @jupyter-widgets/base, semver range ^1.2.0 is not registered as a widget module\n",
    "\n",
    "> Uncaught (in promise) Error: Module luxwidget, semver range 0.1.5 is not registered as a widget module\n",
    "\n",
    "\n",
    "# I FIGURED OUT WHAT IT WAS...\n",
    "...and reported it here: https://github.com/lux-org/lux-widget/issues/94\n",
    "\n",
    "Stay tuned for updates, in the mean time, I am committing a specific git-hash for `pip` to use.\n",
    "\n",
    "# TROUBLESHOOTING\n",
    "\n",
    "The below output, prior to the `========` separator, is for my own troubleshooting / debugging."
   ]
  },
  {
   "cell_type": "code",
   "execution_count": 1,
   "id": "c3bd16ac-2637-449e-835c-b0957d74685e",
   "metadata": {},
   "outputs": [
    {
     "name": "stdout",
     "output_type": "stream",
     "text": [
      "lux-api                       0.3.1\n",
      "lux-widget                    0.1.6\n"
     ]
    }
   ],
   "source": [
    "!pip list | grep lux"
   ]
  },
  {
   "cell_type": "code",
   "execution_count": 2,
   "id": "b3f25915-70e0-47e6-99b7-18c79be1a355",
   "metadata": {
    "tags": []
   },
   "outputs": [
    {
     "data": {
      "text/plain": [
       "'0.3.1'"
      ]
     },
     "execution_count": 2,
     "metadata": {},
     "output_type": "execute_result"
    }
   ],
   "source": [
    "import lux\n",
    "lux.__version__"
   ]
  },
  {
   "cell_type": "code",
   "execution_count": 3,
   "id": "fceffa58-ad43-49df-b40e-4c9cfc772b8e",
   "metadata": {},
   "outputs": [],
   "source": [
    "# !pip install --upgrade lux-api"
   ]
  },
  {
   "cell_type": "code",
   "execution_count": 4,
   "id": "37b72077-1653-4744-8a22-3e0712cbda3b",
   "metadata": {},
   "outputs": [
    {
     "name": "stdout",
     "output_type": "stream",
     "text": [
      "Known nbextensions:\n",
      "  config dir: /opt/conda/etc/jupyter/nbconfig\n",
      "    notebook section\n",
      "      jupyter-matplotlib/extension \u001b[32m enabled \u001b[0m\n",
      "      - Validating: \u001b[32mOK\u001b[0m\n",
      "      jupyterlab-plotly/extension \u001b[32m enabled \u001b[0m\n",
      "      - Validating: \u001b[32mOK\u001b[0m\n",
      "      nbdime/index \u001b[32m enabled \u001b[0m\n",
      "      - Validating: \u001b[32mOK\u001b[0m\n",
      "      jupyter-js-widgets/extension \u001b[32m enabled \u001b[0m\n",
      "      - Validating: \u001b[32mOK\u001b[0m\n"
     ]
    }
   ],
   "source": [
    "!jupyter nbextension list "
   ]
  },
  {
   "cell_type": "code",
   "execution_count": 5,
   "id": "753f78d1-064d-47bc-a797-bc418f829782",
   "metadata": {},
   "outputs": [
    {
     "name": "stdout",
     "output_type": "stream",
     "text": [
      "JupyterLab v3.0.16\n",
      "/opt/conda/share/jupyter/labextensions\n",
      "        jupyter-matplotlib v0.9.0 \u001b[32menabled\u001b[0m \u001b[32mOK\u001b[0m\n",
      "        luxwidget v0.1.6 \u001b[32menabled\u001b[0m \u001b[32mOK\u001b[0m (python, lux-widget)\n",
      "        jupyterlab-plotly v5.1.0 \u001b[32menabled\u001b[0m \u001b[32mOK\u001b[0m\n",
      "        nbdime-jupyterlab v2.1.0 \u001b[32menabled\u001b[0m \u001b[32mOK\u001b[0m\n",
      "        @jupyter-widgets/jupyterlab-manager v3.0.0 \u001b[32menabled\u001b[0m \u001b[32mOK\u001b[0m (python, jupyterlab_widgets)\n",
      "        @pyviz/jupyterlab_pyviz v2.0.1 \u001b[32menabled\u001b[0m \u001b[32mOK\u001b[0m (python, pyviz_comms)\n",
      "        @jupyterlab/git v0.30.1 \u001b[32menabled\u001b[0m \u001b[32mOK\u001b[0m (python, jupyterlab-git)\n",
      "\n",
      "Other labextensions (built into JupyterLab)\n",
      "   app dir: /opt/conda/share/jupyter/lab\n",
      "        @jupyterlab/toc v5.0.12 \u001b[32menabled\u001b[0m \u001b[32mOK\u001b[0m\n",
      "\n"
     ]
    }
   ],
   "source": [
    "!jupyter labextension list"
   ]
  },
  {
   "cell_type": "markdown",
   "id": "6660a10a-2a81-49b5-abe2-595ee0af4006",
   "metadata": {},
   "source": [
    "# =============================================================================================="
   ]
  },
  {
   "cell_type": "markdown",
   "id": "db54c13a-76d9-4c4c-9d28-2ea26d7426a4",
   "metadata": {},
   "source": [
    "# Lux"
   ]
  },
  {
   "cell_type": "code",
   "execution_count": 6,
   "id": "b67d2bee-d6a4-4627-b3a1-cb53b6135417",
   "metadata": {},
   "outputs": [],
   "source": [
    "import lux\n",
    "import pandas as pd\n",
    "\n",
    "pd.set_option('display.max_rows', 4)"
   ]
  },
  {
   "cell_type": "markdown",
   "id": "e87528dd-d45f-4cc2-8910-2c41f2971e94",
   "metadata": {
    "toc-hr-collapsed": true
   },
   "source": [
    "## Load Sample Data"
   ]
  },
  {
   "cell_type": "code",
   "execution_count": 7,
   "id": "ab709479-148c-47d2-b4db-b24e9ba6342d",
   "metadata": {},
   "outputs": [],
   "source": [
    "df = pd.read_csv(\"https://raw.githubusercontent.com/lux-org/lux-datasets/master/data/college.csv\")"
   ]
  },
  {
   "cell_type": "markdown",
   "id": "464be529-5138-4d91-9dad-e59a2c648bc9",
   "metadata": {},
   "source": [
    "## Display the DataFrame (will show `Toggle Pandas/Lux` button)"
   ]
  },
  {
   "cell_type": "code",
   "execution_count": 8,
   "id": "1f03f925-068b-414e-9bb1-27447983bc0d",
   "metadata": {
    "tags": []
   },
   "outputs": [],
   "source": [
    "# Clear any 'intents' for Lux (Note: This is only really needed **after** setting intents from w/in the UI below.)\n",
    "\n",
    "df.intent = []"
   ]
  },
  {
   "cell_type": "code",
   "execution_count": 9,
   "id": "125facbb-7bbc-4396-a599-1be859bd6cd5",
   "metadata": {},
   "outputs": [
    {
     "data": {
      "application/vnd.jupyter.widget-view+json": {
       "model_id": "d0234f79969c401cba0573894ddf8b88",
       "version_major": 2,
       "version_minor": 0
      },
      "text/plain": [
       "Button(description='Toggle Pandas/Lux', layout=Layout(top='5px', width='140px'), style=ButtonStyle())"
      ]
     },
     "metadata": {},
     "output_type": "display_data"
    },
    {
     "data": {
      "application/vnd.jupyter.widget-view+json": {
       "model_id": "2119c0b90fbc4e2ca78a503608788d6d",
       "version_major": 2,
       "version_minor": 0
      },
      "text/plain": [
       "Output()"
      ]
     },
     "metadata": {},
     "output_type": "display_data"
    }
   ],
   "source": [
    "df"
   ]
  },
  {
   "cell_type": "markdown",
   "id": "d3634592-db3a-45e0-98ea-8247992afff3",
   "metadata": {},
   "source": [
    "## Recommendations based on specified intent"
   ]
  },
  {
   "cell_type": "code",
   "execution_count": 10,
   "id": "8a2f6334-916b-4755-b20b-6e99e0c9a776",
   "metadata": {},
   "outputs": [
    {
     "data": {
      "application/vnd.jupyter.widget-view+json": {
       "model_id": "ccf5cecc2fd449b1bc1bbba086db4907",
       "version_major": 2,
       "version_minor": 0
      },
      "text/plain": [
       "Button(description='Toggle Pandas/Lux', layout=Layout(top='5px', width='140px'), style=ButtonStyle())"
      ]
     },
     "metadata": {},
     "output_type": "display_data"
    },
    {
     "data": {
      "application/vnd.jupyter.widget-view+json": {
       "model_id": "5576d6035d064f1eb953881cabd070cd",
       "version_major": 2,
       "version_minor": 0
      },
      "text/plain": [
       "Output()"
      ]
     },
     "metadata": {},
     "output_type": "display_data"
    }
   ],
   "source": [
    "# Create a new variable (via `copy()`), otherwise the toggle button above affects this cell.. :/\n",
    "df2 = df.copy()\n",
    "df2.intent = ['SATAverage', 'ACTMedian']\n",
    "df2"
   ]
  },
  {
   "cell_type": "markdown",
   "id": "f62a4c53-6a3a-4157-91af-7061142b4aa6",
   "metadata": {},
   "source": [
    "## Quick, on-demand visualizations"
   ]
  },
  {
   "cell_type": "code",
   "execution_count": 11,
   "id": "3ecd2ef7-fde0-47e2-b0bb-c65b76410acf",
   "metadata": {},
   "outputs": [
    {
     "data": {
      "application/vnd.jupyter.widget-view+json": {
       "model_id": "93022125e3ff4488af45193ba7cfc786",
       "version_major": 2,
       "version_minor": 0
      },
      "text/plain": [
       "LuxWidget(current_vis={'config': {'view': {'continuousWidth': 400, 'continuousHeight': 300}, 'axis': {'labelCo…"
      ]
     },
     "metadata": {},
     "output_type": "display_data"
    }
   ],
   "source": [
    "from lux.vis.Vis import Vis\n",
    "\n",
    "Vis([\"Region=New England\",\"MedianEarnings\"],df)"
   ]
  },
  {
   "cell_type": "code",
   "execution_count": 12,
   "id": "0624186a-c5c2-4d68-8b72-7de28d2bef32",
   "metadata": {},
   "outputs": [
    {
     "data": {
      "application/vnd.jupyter.widget-view+json": {
       "model_id": "919de1de520845dd98f70d9748cd286f",
       "version_major": 2,
       "version_minor": 0
      },
      "text/plain": [
       "LuxWidget(recommendations=[{'action': 'Vis List', 'description': 'Shows a vis list defined by the intent', 'vs…"
      ]
     },
     "metadata": {},
     "output_type": "display_data"
    }
   ],
   "source": [
    "from lux.vis.VisList import VisList\n",
    "\n",
    "VisList([\"Region=?\",\"AverageCost\"],df)"
   ]
  }
 ],
 "metadata": {
  "kernelspec": {
   "display_name": "Python 3",
   "language": "python",
   "name": "python3"
  },
  "language_info": {
   "codemirror_mode": {
    "name": "ipython",
    "version": 3
   },
   "file_extension": ".py",
   "mimetype": "text/x-python",
   "name": "python",
   "nbconvert_exporter": "python",
   "pygments_lexer": "ipython3",
   "version": "3.8.8"
  }
 },
 "nbformat": 4,
 "nbformat_minor": 5
}

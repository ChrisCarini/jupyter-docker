{
 "cells": [
  {
   "cell_type": "markdown",
   "id": "db54c13a-76d9-4c4c-9d28-2ea26d7426a4",
   "metadata": {},
   "source": [
    "# Lux"
   ]
  },
  {
   "cell_type": "code",
   "execution_count": 1,
   "id": "b67d2bee-d6a4-4627-b3a1-cb53b6135417",
   "metadata": {
    "execution": {
     "iopub.execute_input": "2022-03-20T06:25:42.930074Z",
     "iopub.status.busy": "2022-03-20T06:25:42.929763Z",
     "iopub.status.idle": "2022-03-20T06:25:46.748804Z",
     "shell.execute_reply": "2022-03-20T06:25:46.747648Z",
     "shell.execute_reply.started": "2022-03-20T06:25:42.929937Z"
    }
   },
   "outputs": [],
   "source": [
    "import lux\n",
    "import pandas as pd\n",
    "\n",
    "pd.set_option('display.max_rows', 4)"
   ]
  },
  {
   "cell_type": "markdown",
   "id": "e87528dd-d45f-4cc2-8910-2c41f2971e94",
   "metadata": {
    "toc-hr-collapsed": true
   },
   "source": [
    "## Load Sample Data"
   ]
  },
  {
   "cell_type": "code",
   "execution_count": 2,
   "id": "ab709479-148c-47d2-b4db-b24e9ba6342d",
   "metadata": {
    "execution": {
     "iopub.execute_input": "2022-03-20T06:25:46.750348Z",
     "iopub.status.busy": "2022-03-20T06:25:46.750146Z",
     "iopub.status.idle": "2022-03-20T06:25:46.987312Z",
     "shell.execute_reply": "2022-03-20T06:25:46.986505Z",
     "shell.execute_reply.started": "2022-03-20T06:25:46.750319Z"
    }
   },
   "outputs": [],
   "source": [
    "df = pd.read_csv(\"https://raw.githubusercontent.com/lux-org/lux-datasets/master/data/college.csv\")"
   ]
  },
  {
   "cell_type": "markdown",
   "id": "464be529-5138-4d91-9dad-e59a2c648bc9",
   "metadata": {},
   "source": [
    "## Display the DataFrame (will show `Toggle Pandas/Lux` button)"
   ]
  },
  {
   "cell_type": "code",
   "execution_count": 3,
   "id": "1f03f925-068b-414e-9bb1-27447983bc0d",
   "metadata": {
    "execution": {
     "iopub.execute_input": "2022-03-20T06:25:46.990736Z",
     "iopub.status.busy": "2022-03-20T06:25:46.990516Z",
     "iopub.status.idle": "2022-03-20T06:25:47.038825Z",
     "shell.execute_reply": "2022-03-20T06:25:47.038084Z",
     "shell.execute_reply.started": "2022-03-20T06:25:46.990705Z"
    },
    "tags": []
   },
   "outputs": [],
   "source": [
    "# Clear any 'intents' for Lux (Note: This is only really needed **after** setting intents from w/in the UI below.)\n",
    "\n",
    "df.intent = []"
   ]
  },
  {
   "cell_type": "code",
   "execution_count": 4,
   "id": "125facbb-7bbc-4396-a599-1be859bd6cd5",
   "metadata": {
    "execution": {
     "iopub.execute_input": "2022-03-20T06:25:47.039992Z",
     "iopub.status.busy": "2022-03-20T06:25:47.039774Z",
     "iopub.status.idle": "2022-03-20T06:25:49.124992Z",
     "shell.execute_reply": "2022-03-20T06:25:49.124247Z",
     "shell.execute_reply.started": "2022-03-20T06:25:47.039964Z"
    }
   },
   "outputs": [
    {
     "data": {
      "application/vnd.jupyter.widget-view+json": {
       "model_id": "74a9f155696d4a3ab8d194d26330425e",
       "version_major": 2,
       "version_minor": 0
      },
      "text/plain": [
       "Button(description='Toggle Pandas/Lux', layout=Layout(top='5px', width='140px'), style=ButtonStyle())"
      ]
     },
     "metadata": {},
     "output_type": "display_data"
    },
    {
     "data": {
      "application/vnd.jupyter.widget-view+json": {
       "model_id": "c75ebba2fb0c4e4ca41ad35e1d7f962e",
       "version_major": 2,
       "version_minor": 0
      },
      "text/plain": [
       "Output()"
      ]
     },
     "metadata": {},
     "output_type": "display_data"
    }
   ],
   "source": [
    "df"
   ]
  },
  {
   "cell_type": "markdown",
   "id": "d3634592-db3a-45e0-98ea-8247992afff3",
   "metadata": {},
   "source": [
    "## Recommendations based on specified intent"
   ]
  },
  {
   "cell_type": "code",
   "execution_count": 5,
   "id": "8a2f6334-916b-4755-b20b-6e99e0c9a776",
   "metadata": {
    "execution": {
     "iopub.execute_input": "2022-03-20T06:25:49.126255Z",
     "iopub.status.busy": "2022-03-20T06:25:49.126012Z",
     "iopub.status.idle": "2022-03-20T06:25:51.332454Z",
     "shell.execute_reply": "2022-03-20T06:25:51.331718Z",
     "shell.execute_reply.started": "2022-03-20T06:25:49.126227Z"
    }
   },
   "outputs": [
    {
     "data": {
      "application/vnd.jupyter.widget-view+json": {
       "model_id": "8a65d6eff46b484aab4540121a2ace3e",
       "version_major": 2,
       "version_minor": 0
      },
      "text/plain": [
       "Button(description='Toggle Pandas/Lux', layout=Layout(top='5px', width='140px'), style=ButtonStyle())"
      ]
     },
     "metadata": {},
     "output_type": "display_data"
    },
    {
     "data": {
      "application/vnd.jupyter.widget-view+json": {
       "model_id": "e926d7d6978246bbb01f6bcb9ef6067f",
       "version_major": 2,
       "version_minor": 0
      },
      "text/plain": [
       "Output()"
      ]
     },
     "metadata": {},
     "output_type": "display_data"
    }
   ],
   "source": [
    "# Create a new variable (via `copy()`), otherwise the toggle button above affects this cell.. :/\n",
    "df2 = df.copy()\n",
    "df2.intent = ['SATAverage', 'ACTMedian']\n",
    "df2"
   ]
  },
  {
   "cell_type": "markdown",
   "id": "f62a4c53-6a3a-4157-91af-7061142b4aa6",
   "metadata": {},
   "source": [
    "## Quick, on-demand visualizations"
   ]
  },
  {
   "cell_type": "code",
   "execution_count": 6,
   "id": "3ecd2ef7-fde0-47e2-b0bb-c65b76410acf",
   "metadata": {
    "execution": {
     "iopub.execute_input": "2022-03-20T06:25:51.333538Z",
     "iopub.status.busy": "2022-03-20T06:25:51.333351Z",
     "iopub.status.idle": "2022-03-20T06:25:51.435449Z",
     "shell.execute_reply": "2022-03-20T06:25:51.434426Z",
     "shell.execute_reply.started": "2022-03-20T06:25:51.333518Z"
    }
   },
   "outputs": [
    {
     "data": {
      "application/vnd.jupyter.widget-view+json": {
       "model_id": "39806c530535443082ea11bc5d5113b3",
       "version_major": 2,
       "version_minor": 0
      },
      "text/plain": [
       "LuxWidget(current_vis={'config': {'view': {'continuousWidth': 400, 'continuousHeight': 300}, 'axis': {'labelCo…"
      ]
     },
     "metadata": {},
     "output_type": "display_data"
    }
   ],
   "source": [
    "from lux.vis.Vis import Vis\n",
    "\n",
    "Vis([\"Region=New England\",\"MedianEarnings\"],df)"
   ]
  },
  {
   "cell_type": "code",
   "execution_count": 7,
   "id": "0624186a-c5c2-4d68-8b72-7de28d2bef32",
   "metadata": {
    "execution": {
     "iopub.execute_input": "2022-03-20T06:25:51.437440Z",
     "iopub.status.busy": "2022-03-20T06:25:51.436938Z",
     "iopub.status.idle": "2022-03-20T06:25:51.972782Z",
     "shell.execute_reply": "2022-03-20T06:25:51.971942Z",
     "shell.execute_reply.started": "2022-03-20T06:25:51.437394Z"
    },
    "tags": []
   },
   "outputs": [
    {
     "data": {
      "application/vnd.jupyter.widget-view+json": {
       "model_id": "ba989725bfb845cc9d36501e1822ec49",
       "version_major": 2,
       "version_minor": 0
      },
      "text/plain": [
       "LuxWidget(recommendations=[{'action': 'Vis List', 'description': 'Shows a vis list defined by the intent', 'vs…"
      ]
     },
     "metadata": {},
     "output_type": "display_data"
    }
   ],
   "source": [
    "from lux.vis.VisList import VisList\n",
    "\n",
    "VisList([\"Region=?\",\"AverageCost\"],df)"
   ]
  }
 ],
 "metadata": {
  "kernelspec": {
   "display_name": "Python 3 (ipykernel)",
   "language": "python",
   "name": "python3"
  },
  "language_info": {
   "codemirror_mode": {
    "name": "ipython",
    "version": 3
   },
   "file_extension": ".py",
   "mimetype": "text/x-python",
   "name": "python",
   "nbconvert_exporter": "python",
   "pygments_lexer": "ipython3",
   "version": "3.9.10"
  }
 },
 "nbformat": 4,
 "nbformat_minor": 5
}

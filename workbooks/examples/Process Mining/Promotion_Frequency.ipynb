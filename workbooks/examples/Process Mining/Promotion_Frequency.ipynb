{
 "cells": [
  {
   "cell_type": "markdown",
   "id": "46ce73a4-7b97-4aeb-94aa-b61d6ceeccda",
   "metadata": {},
   "source": [
    "# 0. Monkey-patch"
   ]
  },
  {
   "cell_type": "code",
   "execution_count": 1,
   "id": "163bdae2-c8e5-4092-ad85-5fa23ca36838",
   "metadata": {
    "execution": {
     "iopub.execute_input": "2022-05-29T18:00:04.212054Z",
     "iopub.status.busy": "2022-05-29T18:00:04.211323Z",
     "iopub.status.idle": "2022-05-29T18:00:05.309763Z",
     "shell.execute_reply": "2022-05-29T18:00:05.309295Z",
     "shell.execute_reply.started": "2022-05-29T18:00:04.211934Z"
    },
    "tags": []
   },
   "outputs": [],
   "source": [
    "# SWAP OUT THE DATE FORMATTING METHOD OF pm4py - I don't like it's resolution.\n",
    "import sys\n",
    "import pm4py\n",
    "\n",
    "\n",
    "def uncache(exclude):\n",
    "    \"\"\"Remove package modules from cache except excluded ones.\n",
    "    On next import they will be reloaded.\n",
    "\n",
    "    Args:\n",
    "        exclude (iter<str>): Sequence of module paths.\n",
    "    \"\"\"\n",
    "    pkgs = []\n",
    "    for mod in exclude:\n",
    "        pkg = mod.split('.', 1)[0]\n",
    "        pkgs.append(pkg)\n",
    "\n",
    "    to_uncache = []\n",
    "    for mod in sys.modules:\n",
    "        if mod in exclude:\n",
    "            continue\n",
    "\n",
    "        if mod in pkgs:\n",
    "            to_uncache.append(mod)\n",
    "            continue\n",
    "\n",
    "        for pkg in pkgs:\n",
    "            if mod.startswith(pkg + '.'):\n",
    "                to_uncache.append(mod)\n",
    "                break\n",
    "\n",
    "    for mod in to_uncache:\n",
    "        del sys.modules[mod]\n",
    "\n",
    "\n",
    "intervals = (\n",
    "    ('Y', (60 * 60 * 24 * 365)),\n",
    "    ('M', (60 * 60 * 24 * 30)),\n",
    "    ('W', (60 * 60 * 24 * 7)),\n",
    "    ('D', (60 * 60 * 24)),\n",
    "    ('H', (60 * 60)),\n",
    "    ('m', 60),\n",
    "    ('s', 1),\n",
    ")\n",
    "\n",
    "\n",
    "def display_time(seconds, granularity=2):\n",
    "    result = []\n",
    "    for name, count in intervals:\n",
    "        value = seconds // count\n",
    "        if value:\n",
    "            seconds -= value * count\n",
    "            if value == 1:\n",
    "                name = name.rstrip('s')\n",
    "            result.append(f\"{int(value)}{name}\")\n",
    "    return ' '.join(result[:granularity])\n",
    "\n",
    "\n",
    "def my_human_readable_stat(timedelta_seconds, stat_locale: dict = {}):\n",
    "    return display_time(timedelta_seconds)\n",
    "\n",
    "\n",
    "pm4py.util.vis_utils.human_readable_stat = my_human_readable_stat\n",
    "pm4py.visualization.common.utils.human_readable_stat = my_human_readable_stat\n",
    "\n",
    "uncache([\n",
    "    'pm4py.util.vis_utils',\n",
    "    'pm4py.visualization.common.utils',\n",
    "])"
   ]
  },
  {
   "cell_type": "markdown",
   "id": "a0363791",
   "metadata": {
    "pycharm": {
     "name": "#%% md\n"
    }
   },
   "source": [
    "# 1. Import Libraries"
   ]
  },
  {
   "cell_type": "code",
   "execution_count": 2,
   "id": "cde19b5f-c9bc-4715-bec6-d47e4b244ffe",
   "metadata": {
    "execution": {
     "iopub.execute_input": "2022-05-29T18:00:05.314702Z",
     "iopub.status.busy": "2022-05-29T18:00:05.312936Z",
     "iopub.status.idle": "2022-05-29T18:00:05.535990Z",
     "shell.execute_reply": "2022-05-29T18:00:05.535167Z",
     "shell.execute_reply.started": "2022-05-29T18:00:05.314675Z"
    },
    "tags": []
   },
   "outputs": [],
   "source": [
    "import pandas as pd\n",
    "\n",
    "import pm4py\n",
    "from pm4py.objects.conversion.log import converter as log_converter\n",
    "from pm4py.objects.log.util import dataframe_utils\n",
    "from pm4py.algo.discovery.dfg import algorithm as dfg_discovery\n",
    "from pm4py.visualization.dfg import visualizer as dfg_visualization"
   ]
  },
  {
   "cell_type": "markdown",
   "id": "59a091e2-939e-4269-8fdf-c5936f80e8eb",
   "metadata": {},
   "source": [
    "# 2. Load data"
   ]
  },
  {
   "cell_type": "code",
   "execution_count": 3,
   "id": "4b053752-6b6a-4b28-b67c-56c45ab4f591",
   "metadata": {
    "execution": {
     "iopub.execute_input": "2022-05-29T18:00:05.537385Z",
     "iopub.status.busy": "2022-05-29T18:00:05.537196Z",
     "iopub.status.idle": "2022-05-29T18:00:05.565293Z",
     "shell.execute_reply": "2022-05-29T18:00:05.564224Z",
     "shell.execute_reply.started": "2022-05-29T18:00:05.537365Z"
    },
    "tags": []
   },
   "outputs": [
    {
     "data": {
      "text/html": [
       "<div>\n",
       "<style scoped>\n",
       "    .dataframe tbody tr th:only-of-type {\n",
       "        vertical-align: middle;\n",
       "    }\n",
       "\n",
       "    .dataframe tbody tr th {\n",
       "        vertical-align: top;\n",
       "    }\n",
       "\n",
       "    .dataframe thead th {\n",
       "        text-align: right;\n",
       "    }\n",
       "</style>\n",
       "<table border=\"1\" class=\"dataframe\">\n",
       "  <thead>\n",
       "    <tr style=\"text-align: right;\">\n",
       "      <th></th>\n",
       "      <th>username</th>\n",
       "      <th>action</th>\n",
       "      <th>timestamp</th>\n",
       "    </tr>\n",
       "  </thead>\n",
       "  <tbody>\n",
       "    <tr>\n",
       "      <th>0</th>\n",
       "      <td>Alice</td>\n",
       "      <td>SR engineer</td>\n",
       "      <td>2021-01-01</td>\n",
       "    </tr>\n",
       "    <tr>\n",
       "      <th>1</th>\n",
       "      <td>Alice</td>\n",
       "      <td>SW engineer</td>\n",
       "      <td>2022-01-01</td>\n",
       "    </tr>\n",
       "    <tr>\n",
       "      <th>2</th>\n",
       "      <td>Alice</td>\n",
       "      <td>Sr.SW engineer</td>\n",
       "      <td>2023-01-01</td>\n",
       "    </tr>\n",
       "    <tr>\n",
       "      <th>3</th>\n",
       "      <td>Alice</td>\n",
       "      <td>Tech Fellow</td>\n",
       "      <td>2025-01-01</td>\n",
       "    </tr>\n",
       "    <tr>\n",
       "      <th>4</th>\n",
       "      <td>Bob</td>\n",
       "      <td>Staff DS engineer</td>\n",
       "      <td>2021-01-01</td>\n",
       "    </tr>\n",
       "    <tr>\n",
       "      <th>5</th>\n",
       "      <td>Bob</td>\n",
       "      <td>SW engineer</td>\n",
       "      <td>2022-01-01</td>\n",
       "    </tr>\n",
       "    <tr>\n",
       "      <th>6</th>\n",
       "      <td>Bob</td>\n",
       "      <td>Sr.SW engineer</td>\n",
       "      <td>2028-01-01</td>\n",
       "    </tr>\n",
       "  </tbody>\n",
       "</table>\n",
       "</div>"
      ],
      "text/plain": [
       "  username             action  timestamp\n",
       "0    Alice        SR engineer 2021-01-01\n",
       "1    Alice        SW engineer 2022-01-01\n",
       "2    Alice     Sr.SW engineer 2023-01-01\n",
       "3    Alice        Tech Fellow 2025-01-01\n",
       "4      Bob  Staff DS engineer 2021-01-01\n",
       "5      Bob        SW engineer 2022-01-01\n",
       "6      Bob     Sr.SW engineer 2028-01-01"
      ]
     },
     "execution_count": 3,
     "metadata": {},
     "output_type": "execute_result"
    }
   ],
   "source": [
    "df = pd.DataFrame([\n",
    "    # @formatter:off\n",
    "    ['Alice', 'SR engineer',           pd.Timestamp('2021-01-01').timestamp()],\n",
    "    ['Alice', 'SW engineer',           pd.Timestamp('2022-01-01').timestamp()],  # promo after 1 year\n",
    "    ['Alice', 'Sr.SW engineer',        pd.Timestamp('2023-01-01').timestamp()],  # promo after 1 year\n",
    "    ['Alice', 'Tech Fellow',           pd.Timestamp('2025-01-01').timestamp()],  # promo after 2 years\n",
    "    ['Bob', 'Staff DS engineer',       pd.Timestamp('2021-01-01').timestamp()],\n",
    "    ['Bob', 'SW engineer',             pd.Timestamp('2022-01-01').timestamp()],  # promo after 1 year; for demo, you had career change.\n",
    "    ['Bob', 'Sr.SW engineer',          pd.Timestamp('2028-01-01').timestamp()],  # promo after *6* years\n",
    "    # @formatter:on\n",
    "], columns=['username', 'action', 'timestamp'])\n",
    "df['timestamp'] = pd.to_datetime(df['timestamp'], unit='s')\n",
    "df"
   ]
  },
  {
   "cell_type": "code",
   "execution_count": 4,
   "id": "8ae6f2e4-5e03-4df9-8a9d-7e0cb4287e4c",
   "metadata": {
    "execution": {
     "iopub.execute_input": "2022-05-29T18:00:05.569150Z",
     "iopub.status.busy": "2022-05-29T18:00:05.568503Z",
     "iopub.status.idle": "2022-05-29T18:00:05.586455Z",
     "shell.execute_reply": "2022-05-29T18:00:05.585689Z",
     "shell.execute_reply.started": "2022-05-29T18:00:05.569118Z"
    },
    "tags": []
   },
   "outputs": [
    {
     "data": {
      "text/html": [
       "<div>\n",
       "<style scoped>\n",
       "    .dataframe tbody tr th:only-of-type {\n",
       "        vertical-align: middle;\n",
       "    }\n",
       "\n",
       "    .dataframe tbody tr th {\n",
       "        vertical-align: top;\n",
       "    }\n",
       "\n",
       "    .dataframe thead th {\n",
       "        text-align: right;\n",
       "    }\n",
       "</style>\n",
       "<table border=\"1\" class=\"dataframe\">\n",
       "  <thead>\n",
       "    <tr style=\"text-align: right;\">\n",
       "      <th></th>\n",
       "      <th>case:concept:name</th>\n",
       "      <th>concept:name</th>\n",
       "      <th>time:timestamp</th>\n",
       "    </tr>\n",
       "  </thead>\n",
       "  <tbody>\n",
       "    <tr>\n",
       "      <th>0</th>\n",
       "      <td>Alice</td>\n",
       "      <td>SR engineer</td>\n",
       "      <td>2021-01-01</td>\n",
       "    </tr>\n",
       "    <tr>\n",
       "      <th>1</th>\n",
       "      <td>Alice</td>\n",
       "      <td>SW engineer</td>\n",
       "      <td>2022-01-01</td>\n",
       "    </tr>\n",
       "    <tr>\n",
       "      <th>2</th>\n",
       "      <td>Alice</td>\n",
       "      <td>Sr.SW engineer</td>\n",
       "      <td>2023-01-01</td>\n",
       "    </tr>\n",
       "    <tr>\n",
       "      <th>3</th>\n",
       "      <td>Alice</td>\n",
       "      <td>Tech Fellow</td>\n",
       "      <td>2025-01-01</td>\n",
       "    </tr>\n",
       "    <tr>\n",
       "      <th>4</th>\n",
       "      <td>Bob</td>\n",
       "      <td>Staff DS engineer</td>\n",
       "      <td>2021-01-01</td>\n",
       "    </tr>\n",
       "    <tr>\n",
       "      <th>5</th>\n",
       "      <td>Bob</td>\n",
       "      <td>SW engineer</td>\n",
       "      <td>2022-01-01</td>\n",
       "    </tr>\n",
       "    <tr>\n",
       "      <th>6</th>\n",
       "      <td>Bob</td>\n",
       "      <td>Sr.SW engineer</td>\n",
       "      <td>2028-01-01</td>\n",
       "    </tr>\n",
       "  </tbody>\n",
       "</table>\n",
       "</div>"
      ],
      "text/plain": [
       "  case:concept:name       concept:name time:timestamp\n",
       "0             Alice        SR engineer     2021-01-01\n",
       "1             Alice        SW engineer     2022-01-01\n",
       "2             Alice     Sr.SW engineer     2023-01-01\n",
       "3             Alice        Tech Fellow     2025-01-01\n",
       "4               Bob  Staff DS engineer     2021-01-01\n",
       "5               Bob        SW engineer     2022-01-01\n",
       "6               Bob     Sr.SW engineer     2028-01-01"
      ]
     },
     "execution_count": 4,
     "metadata": {},
     "output_type": "execute_result"
    }
   ],
   "source": [
    "pm_data = dataframe_utils.convert_timestamp_columns_in_df(df)\n",
    "pm_data.columns = ['case:concept:name', 'concept:name', 'time:timestamp']\n",
    "pm_data"
   ]
  },
  {
   "cell_type": "code",
   "execution_count": 5,
   "id": "6c84dbe8-ac52-49a1-b70f-b3e7e83b1575",
   "metadata": {
    "execution": {
     "iopub.execute_input": "2022-05-29T18:00:05.589892Z",
     "iopub.status.busy": "2022-05-29T18:00:05.589192Z",
     "iopub.status.idle": "2022-05-29T18:00:05.640483Z",
     "shell.execute_reply": "2022-05-29T18:00:05.639182Z",
     "shell.execute_reply.started": "2022-05-29T18:00:05.589747Z"
    },
    "tags": []
   },
   "outputs": [
    {
     "data": {
      "image/png": "[encoded data removed]",
      "text/plain": [
       "<IPython.core.display.Image object>"
      ]
     },
     "metadata": {},
     "output_type": "display_data"
    }
   ],
   "source": [
    "# Variant = Frequency\n",
    "log = log_converter.apply(pm_data)\n",
    "variant = dfg_visualization.Variants.FREQUENCY\n",
    "dfg = dfg_discovery.apply(log)\n",
    "gviz = dfg_visualization.apply(dfg, log=log, variant=variant)\n",
    "dfg_visualization.view(gviz)"
   ]
  },
  {
   "cell_type": "code",
   "execution_count": 6,
   "id": "4f705480-f535-4b28-928c-37cb3f918d99",
   "metadata": {
    "execution": {
     "iopub.execute_input": "2022-05-29T18:00:05.643340Z",
     "iopub.status.busy": "2022-05-29T18:00:05.642633Z",
     "iopub.status.idle": "2022-05-29T18:00:05.654073Z",
     "shell.execute_reply": "2022-05-29T18:00:05.651729Z",
     "shell.execute_reply.started": "2022-05-29T18:00:05.643270Z"
    },
    "tags": []
   },
   "outputs": [],
   "source": [
    "log = log_converter.apply(pm_data)\n",
    "dfg, start_activities, end_activities = pm4py.discover_dfg(log)"
   ]
  },
  {
   "cell_type": "code",
   "execution_count": 7,
   "id": "52502630-c1bc-42e0-a6b6-7bce694ef6be",
   "metadata": {
    "execution": {
     "iopub.execute_input": "2022-05-29T18:00:05.656995Z",
     "iopub.status.busy": "2022-05-29T18:00:05.655976Z",
     "iopub.status.idle": "2022-05-29T18:00:05.666201Z",
     "shell.execute_reply": "2022-05-29T18:00:05.664926Z",
     "shell.execute_reply.started": "2022-05-29T18:00:05.656951Z"
    },
    "tags": []
   },
   "outputs": [
    {
     "data": {
      "text/plain": [
       "[(('SW engineer', 'Sr.SW engineer'), 2),\n",
       " (('SR engineer', 'SW engineer'), 1),\n",
       " (('Sr.SW engineer', 'Tech Fellow'), 1),\n",
       " (('Staff DS engineer', 'SW engineer'), 1)]"
      ]
     },
     "execution_count": 7,
     "metadata": {},
     "output_type": "execute_result"
    }
   ],
   "source": [
    "dfg.most_common(25)"
   ]
  },
  {
   "cell_type": "code",
   "execution_count": 8,
   "id": "e9e30aa9-d97d-4603-a9ba-5f33c3ed26af",
   "metadata": {
    "execution": {
     "iopub.execute_input": "2022-05-29T18:00:05.669331Z",
     "iopub.status.busy": "2022-05-29T18:00:05.669047Z",
     "iopub.status.idle": "2022-05-29T18:00:05.678618Z",
     "shell.execute_reply": "2022-05-29T18:00:05.677793Z",
     "shell.execute_reply.started": "2022-05-29T18:00:05.669309Z"
    },
    "tags": []
   },
   "outputs": [
    {
     "data": {
      "text/plain": [
       "{'SR engineer': 1, 'Staff DS engineer': 1}"
      ]
     },
     "execution_count": 8,
     "metadata": {},
     "output_type": "execute_result"
    }
   ],
   "source": [
    "start_activities"
   ]
  },
  {
   "cell_type": "code",
   "execution_count": 9,
   "id": "a7bbbd18-080e-433a-b4ee-0ef75e3e9fef",
   "metadata": {
    "execution": {
     "iopub.execute_input": "2022-05-29T18:00:05.682021Z",
     "iopub.status.busy": "2022-05-29T18:00:05.681148Z",
     "iopub.status.idle": "2022-05-29T18:00:05.693012Z",
     "shell.execute_reply": "2022-05-29T18:00:05.691864Z",
     "shell.execute_reply.started": "2022-05-29T18:00:05.681987Z"
    },
    "tags": []
   },
   "outputs": [
    {
     "data": {
      "text/plain": [
       "{'Tech Fellow': 1, 'Sr.SW engineer': 1}"
      ]
     },
     "execution_count": 9,
     "metadata": {},
     "output_type": "execute_result"
    }
   ],
   "source": [
    "end_activities"
   ]
  },
  {
   "cell_type": "code",
   "execution_count": 10,
   "id": "0c19da8f",
   "metadata": {
    "execution": {
     "iopub.execute_input": "2022-05-29T18:00:05.695510Z",
     "iopub.status.busy": "2022-05-29T18:00:05.695296Z",
     "iopub.status.idle": "2022-05-29T18:00:05.745742Z",
     "shell.execute_reply": "2022-05-29T18:00:05.744690Z",
     "shell.execute_reply.started": "2022-05-29T18:00:05.695485Z"
    },
    "pycharm": {
     "name": "#%%\n"
    },
    "tags": []
   },
   "outputs": [
    {
     "data": {
      "image/png": "[encoded data removed]",
      "text/plain": [
       "<IPython.core.display.Image object>"
      ]
     },
     "metadata": {},
     "output_type": "display_data"
    }
   ],
   "source": [
    "dfg = dfg_discovery.apply(log, variant=dfg_discovery.Variants.PERFORMANCE)\n",
    "gviz = dfg_visualization.apply(dfg, log=log, variant=dfg_visualization.Variants.PERFORMANCE)\n",
    "dfg_visualization.view(gviz)"
   ]
  }
 ],
 "metadata": {
  "kernelspec": {
   "display_name": "Python 3 (ipykernel)",
   "language": "python",
   "name": "python3"
  },
  "language_info": {
   "codemirror_mode": {
    "name": "ipython",
    "version": 3
   },
   "file_extension": ".py",
   "mimetype": "text/x-python",
   "name": "python",
   "nbconvert_exporter": "python",
   "pygments_lexer": "ipython3",
   "version": "3.9.10"
  }
 },
 "nbformat": 4,
 "nbformat_minor": 5
}

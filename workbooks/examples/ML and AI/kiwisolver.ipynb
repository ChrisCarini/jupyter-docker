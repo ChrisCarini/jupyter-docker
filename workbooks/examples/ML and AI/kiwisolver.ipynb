{
 "cells": [
  {
   "cell_type": "markdown",
   "id": "d9e5b22c-1240-4ba5-ad71-851c8c2d34cb",
   "metadata": {},
   "source": [
    "# `kiwisolver` Example\n",
    "\n",
    "**Getting Started Docs:** https://kiwisolver.readthedocs.io/en/latest/basis/index.html"
   ]
  },
  {
   "cell_type": "code",
   "execution_count": 1,
   "id": "aff21b1b-dd6c-4bbf-adb7-0ed14a499565",
   "metadata": {},
   "outputs": [],
   "source": [
    "from kiwisolver import Variable"
   ]
  },
  {
   "cell_type": "code",
   "execution_count": 2,
   "id": "45265932-bfee-494b-a981-08b40d047d4c",
   "metadata": {},
   "outputs": [],
   "source": [
    "a = Variable('a')\n",
    "b = Variable('b')\n",
    "c = Variable('c')"
   ]
  },
  {
   "cell_type": "code",
   "execution_count": 3,
   "id": "7df5e553-d1ef-4d55-9929-b270e179f237",
   "metadata": {},
   "outputs": [
    {
     "ename": "TypeError",
     "evalue": "unsupported operand type(s) for *: 'kiwisolver.Variable' and 'kiwisolver.Variable'",
     "output_type": "error",
     "traceback": [
      "\u001b[0;31m---------------------------------------------------------------------------\u001b[0m",
      "\u001b[0;31mTypeError\u001b[0m                                 Traceback (most recent call last)",
      "\u001b[0;32m<ipython-input-3-8680165be687>\u001b[0m in \u001b[0;36m<module>\u001b[0;34m\u001b[0m\n\u001b[1;32m      2\u001b[0m \u001b[0;34m\u001b[0m\u001b[0m\n\u001b[1;32m      3\u001b[0m     \u001b[0;31m## NOTE: THIS LINE IS WHY I REMOVED `kiwisolver`; I CAN NOT DO VAR MULTIPLICATION. :(\u001b[0m\u001b[0;34m\u001b[0m\u001b[0;34m\u001b[0m\u001b[0;34m\u001b[0m\u001b[0m\n\u001b[0;32m----> 4\u001b[0;31m     \u001b[0ma\u001b[0m \u001b[0;34m*\u001b[0m \u001b[0ma\u001b[0m \u001b[0;34m>=\u001b[0m \u001b[0;36m0\u001b[0m\u001b[0;34m,\u001b[0m\u001b[0;34m\u001b[0m\u001b[0;34m\u001b[0m\u001b[0m\n\u001b[0m\u001b[1;32m      5\u001b[0m \u001b[0;34m\u001b[0m\u001b[0m\n\u001b[1;32m      6\u001b[0m     \u001b[0mb\u001b[0m \u001b[0;34m+\u001b[0m \u001b[0mb\u001b[0m \u001b[0;34m>=\u001b[0m \u001b[0;36m0\u001b[0m\u001b[0;34m,\u001b[0m\u001b[0;34m\u001b[0m\u001b[0;34m\u001b[0m\u001b[0m\n",
      "\u001b[0;31mTypeError\u001b[0m: unsupported operand type(s) for *: 'kiwisolver.Variable' and 'kiwisolver.Variable'"
     ]
    }
   ],
   "source": [
    "constraints = [\n",
    "    \n",
    "    ## NOTE: THIS LINE IS WHY I REMOVED `kiwisolver`; I CAN NOT DO VAR MULTIPLICATION. :(\n",
    "    a * a >= 0,\n",
    "    \n",
    "    b + b >= 0, \n",
    "    c + c >= 0, \n",
    "    a * a + b * b == c * c, \n",
    "]"
   ]
  },
  {
   "cell_type": "code",
   "execution_count": null,
   "id": "36ee4e8e-6992-45d6-b244-aa7846ff585d",
   "metadata": {},
   "outputs": [],
   "source": [
    "from kiwisolver import Solver\n",
    "\n",
    "solver = Solver()\n",
    "\n",
    "for cn in constraints:\n",
    "    solver.addConstraint(cn)"
   ]
  },
  {
   "cell_type": "code",
   "execution_count": null,
   "id": "1a62acb0-db33-4f6d-83aa-23c199c392b0",
   "metadata": {},
   "outputs": [],
   "source": [
    "solver.addEditVariable(c, 'strong')"
   ]
  },
  {
   "cell_type": "code",
   "execution_count": null,
   "id": "26ed4497-4c38-4aac-8934-58a37413c494",
   "metadata": {},
   "outputs": [],
   "source": [
    "solver.suggestValue(a, 3)\n",
    "solver.suggestValue(b, 4)"
   ]
  },
  {
   "cell_type": "code",
   "execution_count": null,
   "id": "15745784-23f6-4c0d-af47-08f22ffe6269",
   "metadata": {},
   "outputs": [],
   "source": [
    "solver.updateVariables()\n",
    "print(a.value(), b.value(), c.value())"
   ]
  }
 ],
 "metadata": {
  "kernelspec": {
   "display_name": "Python 3",
   "language": "python",
   "name": "python3"
  },
  "language_info": {
   "codemirror_mode": {
    "name": "ipython",
    "version": 3
   },
   "file_extension": ".py",
   "mimetype": "text/x-python",
   "name": "python",
   "nbconvert_exporter": "python",
   "pygments_lexer": "ipython3",
   "version": "3.8.8"
  }
 },
 "nbformat": 4,
 "nbformat_minor": 5
}

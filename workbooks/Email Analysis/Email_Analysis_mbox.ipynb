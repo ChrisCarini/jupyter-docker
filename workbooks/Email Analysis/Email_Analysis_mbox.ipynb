{
 "cells": [
  {
   "cell_type": "markdown",
   "id": "081a7ce0-7582-4b1b-a4e8-62eca25382ec",
   "metadata": {
    "tags": []
   },
   "source": [
    "# `mbox` Email Analysis\n",
    "\n",
    "Inspired from [Justin Ellis' \"Personal Analytics Part 1: Gmail\"](https://jellis18.github.io/post/2018-01-17-mail-analysis/), below is my notebook to analyze my emails.\n",
    "\n",
    "My specific use-case is I want to be able to quickly go through my inbox and bulk-delete emails. I am particularly interested in finding the 'most frequent senders'.\n",
    "\n",
    "\n",
    "## Steps\n",
    "1) Go to [Google Takeout](https://takeout.google.com/settings/takeout?pli=1) and download your `Mail` data only (you can quickly find this by searching the page for `mbox`)\n",
    "2) Request a download; this can take several hours, so get going on this...\n",
    "3) Move the `mbox` file to this directory, ensuring the file is named: `All mail Including Spam and Trash.mbox`\n",
    "4) Run this notebook.\n",
    "\n",
    "**Current Status:** _In Progress_"
   ]
  },
  {
   "cell_type": "code",
   "execution_count": null,
   "outputs": [],
   "source": [
    "# set raw data mbox path\n",
    "mboxfile = './Email Analysis/All mail Including Spam and Trash.mbox'"
   ],
   "metadata": {
    "collapsed": false
   },
   "id": "c5f6772259cf6b6c"
  },
  {
   "cell_type": "code",
   "execution_count": null,
   "id": "bb2d6587-ac06-4146-b76b-4a45c6b3049a",
   "metadata": {
    "execution": {
     "iopub.execute_input": "2022-05-29T18:47:02.943162Z",
     "iopub.status.busy": "2022-05-29T18:47:02.942831Z",
     "iopub.status.idle": "2022-05-29T18:47:03.577115Z",
     "shell.execute_reply": "2022-05-29T18:47:03.576329Z",
     "shell.execute_reply.started": "2022-05-29T18:47:02.943134Z"
    },
    "tags": []
   },
   "outputs": [],
   "source": [
    "import csv\n",
    "import mailbox\n",
    "import re\n",
    "import warnings\n",
    "from typing import List, Dict\n",
    "\n",
    "import numpy as np\n",
    "import pandas as pd\n",
    "from dateutil import parser"
   ]
  },
  {
   "cell_type": "markdown",
   "source": [
    "## Read in `mbox` file"
   ],
   "metadata": {
    "collapsed": false
   },
   "id": "dfdbc5deef9da909"
  },
  {
   "cell_type": "code",
   "execution_count": null,
   "id": "a7377b08-0972-42f7-8262-cff4485fd4c9",
   "metadata": {
    "execution": {
     "iopub.execute_input": "2022-05-29T18:47:03.586831Z",
     "iopub.status.busy": "2022-05-29T18:47:03.586551Z",
     "iopub.status.idle": "2022-05-29T18:48:44.756533Z",
     "shell.execute_reply": "2022-05-29T18:48:44.755376Z",
     "shell.execute_reply.started": "2022-05-29T18:47:03.586808Z"
    },
    "tags": []
   },
   "outputs": [],
   "source": [
    "mbox = mailbox.mbox(mboxfile)"
   ]
  },
  {
   "cell_type": "code",
   "execution_count": null,
   "outputs": [],
   "source": [
    "# do this as a standalone operation, as it takes >1.5min on a ~6GB mbox file\n",
    "x = mbox[0]"
   ],
   "metadata": {
    "collapsed": false
   },
   "id": "50d7b24ee8b6ecc2"
  },
  {
   "cell_type": "code",
   "execution_count": null,
   "outputs": [],
   "source": [
    "for key in x.keys():\n",
    "    print(key)"
   ],
   "metadata": {
    "collapsed": false
   },
   "id": "3a65021b46bbad69"
  },
  {
   "cell_type": "markdown",
   "source": [
    "## Write out to CSV"
   ],
   "metadata": {
    "collapsed": false
   },
   "id": "c7a378a6537a0b49"
  },
  {
   "cell_type": "code",
   "execution_count": null,
   "outputs": [],
   "source": [
    "cols: Dict[str, str] = {\n",
    "    # mbox name: dataframe name\n",
    "    'Date': 'date',\n",
    "    'From': 'from',\n",
    "    'To': 'to',\n",
    "    'Subject': 'subject',\n",
    "    'Reply-To': 'reply_to',\n",
    "    'Delivered-To': 'delivered_to',\n",
    "    'Message-ID': 'message_id',\n",
    "    'X-GM-THRID': 'x_gm_thrid',\n",
    "    'X-Gmail-Labels': 'labels',\n",
    "    # Misc\n",
    "    'ARC-Authentication-Results': 'arc-authentication-results',\n",
    "    'ARC-Message-Signature': 'arc-message-signature',\n",
    "    'ARC-Seal': 'arc-seal',\n",
    "    'Authentication-Results': 'authentication-results',\n",
    "    'Content-Type': 'content-type',\n",
    "    'DKIM-Signature': 'dkim-signature',\n",
    "    'Mime-Version': 'mime-version',\n",
    "    'Received': 'received',\n",
    "    'Received-SPF': 'received-spf',\n",
    "    'Return-Path': 'return-path',\n",
    "    'X-Entity-ID': 'x-entity-id',\n",
    "    'X-Feedback-ID': 'x-feedback-id',\n",
    "    'X-Google-Smtp-Source': 'x-google-smtp-source',\n",
    "    'X-Received': 'x-received',\n",
    "    'X-SG-EID': 'x-sg-eid',\n",
    "    'X-SG-ID': 'x-sg-id',\n",
    "}"
   ],
   "metadata": {
    "collapsed": false
   },
   "id": "be73b098f6a1ee40"
  },
  {
   "cell_type": "markdown",
   "source": [
    "## Convert to CSV"
   ],
   "metadata": {
    "collapsed": false
   },
   "id": "5dbd8f921bdce387"
  },
  {
   "cell_type": "code",
   "execution_count": null,
   "outputs": [],
   "source": [
    "with open(\"./Email Analysis/mbox.csv\", \"w\") as outfile:\n",
    "    writer = csv.writer(outfile)\n",
    "    for message in mbox:\n",
    "        data = []\n",
    "        for col in cols.keys():\n",
    "            data.append(message[col])\n",
    "        writer.writerow(data)"
   ],
   "metadata": {
    "collapsed": false
   },
   "id": "83e5d3dc253c4222"
  },
  {
   "cell_type": "code",
   "execution_count": null,
   "outputs": [],
   "source": [
    "df = pd.read_csv('./Email Analysis/mbox.csv', names=cols.values())"
   ],
   "metadata": {
    "collapsed": false
   },
   "id": "3273edc190e6bf34"
  },
  {
   "cell_type": "markdown",
   "source": [
    "## Data Cleaning"
   ],
   "metadata": {
    "collapsed": false
   },
   "id": "6149f44e497c9fa5"
  },
  {
   "cell_type": "code",
   "execution_count": null,
   "outputs": [],
   "source": [
    "with warnings.catch_warnings():\n",
    "    warnings.simplefilter(action='ignore', category=parser.UnknownTimezoneWarning)\n",
    "    df['date'] = pd.to_datetime(df['date'], errors='coerce', utc=True)\n",
    "\n",
    "df"
   ],
   "metadata": {
    "collapsed": false
   },
   "id": "86ba15a50b89147b"
  },
  {
   "cell_type": "code",
   "execution_count": null,
   "outputs": [],
   "source": [
    "def clean_emails(string):\n",
    "    if string is np.NaN:\n",
    "        return \"\"\n",
    "    email = re.findall(r'<(.+?)>', string)\n",
    "    if not email:\n",
    "        email = list(filter(lambda y: '@' in y, string.split()))\n",
    "    return email[0] if email else string\n",
    "\n",
    "\n",
    "for col in [\n",
    "    'from',\n",
    "    'to',\n",
    "    'reply_to',\n",
    "    'delivered_to',\n",
    "]:\n",
    "    df.loc[:, col] = df.loc[:, col].apply(lambda x: clean_emails(x))\n",
    "\n",
    "domain_only = lambda x: x.split(\"@\")[1] if '@' in x else x\n",
    "df.loc[:, 'from_domain'] = df.loc[:, 'from'].apply(domain_only)\n",
    "df.loc[:, 'to_domain'] = df.loc[:, 'to'].apply(domain_only)\n",
    "\n",
    "tld_domain_only = lambda x: \".\".join(x.split(\".\")[-2:]) if '.' in x else x\n",
    "df.loc[:, 'from_tld_domain'] = df.loc[:, 'from_domain'].apply(tld_domain_only)\n",
    "df.loc[:, 'to_tld_domain'] = df.loc[:, 'to_domain'].apply(tld_domain_only)\n",
    "\n",
    "\n",
    "def clean_labels(row) -> List[str]:\n",
    "    if isinstance(row, list):\n",
    "        return row\n",
    "    if row is np.NAN:\n",
    "        return []\n",
    "    if isinstance(row, str) and ',' in row:\n",
    "        return [label.strip() for label in row.split(',')]\n",
    "    return [row]\n",
    "\n",
    "\n",
    "df.loc[:, 'labels'] = df.loc[:, 'labels'].apply(lambda row: clean_labels(row))\n",
    "\n",
    "df = df[df['date'].notna()]"
   ],
   "metadata": {
    "collapsed": false
   },
   "id": "a82efdd4bc41e657"
  },
  {
   "cell_type": "markdown",
   "source": [
    "## Process"
   ],
   "metadata": {
    "collapsed": false
   },
   "id": "82991b5da8ae5f60"
  },
  {
   "cell_type": "code",
   "execution_count": null,
   "outputs": [],
   "source": [
    "df.head()"
   ],
   "metadata": {
    "collapsed": false
   },
   "id": "ed40153c6d4be10a"
  },
  {
   "cell_type": "code",
   "execution_count": null,
   "outputs": [],
   "source": [
    "# date_filter = (df['date'].dt.tz_localize(None) >= (pd.to_datetime('today').normalize() - pd.DateOffset(months=60)))\n",
    "date_filter = True\n",
    "\n",
    "inbox_not_trash = (df['labels'].apply(lambda x: 'Trash' not in x and 'Inbox' in x))"
   ],
   "metadata": {
    "collapsed": false
   },
   "id": "e07e297a4495c460"
  },
  {
   "cell_type": "code",
   "execution_count": null,
   "outputs": [],
   "source": [
    "for col in ['from','from_domain','from_tld_domain']:\n",
    "    display(pd.DataFrame(df[date_filter & inbox_not_trash].groupby([col]).size().sort_values(ascending=False), columns=['count']))"
   ],
   "metadata": {
    "collapsed": false
   },
   "id": "7e18b3a895d5dd01"
  },
  {
   "cell_type": "code",
   "execution_count": null,
   "outputs": [],
   "source": [],
   "metadata": {
    "collapsed": false
   },
   "id": "503d9e2846240c1e"
  }
 ],
 "metadata": {
  "kernelspec": {
   "display_name": "Python 3 (ipykernel)",
   "language": "python",
   "name": "python3"
  },
  "language_info": {
   "codemirror_mode": {
    "name": "ipython",
    "version": 3
   },
   "file_extension": ".py",
   "mimetype": "text/x-python",
   "name": "python",
   "nbconvert_exporter": "python",
   "pygments_lexer": "ipython3",
   "version": "3.9.10"
  }
 },
 "nbformat": 4,
 "nbformat_minor": 5
}
